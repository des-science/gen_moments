{
 "cells": [
  {
   "cell_type": "code",
   "execution_count": 25,
   "id": "fcb3ba0a-7e66-4bd9-84db-c02862f2c828",
   "metadata": {},
   "outputs": [],
   "source": [
    "import numpy as np\n",
    "import matplotlib.pyplot as plt\n",
    "\n",
    "from smt.sampling_methods import LHS\n",
    "\n",
    "import copy\n",
    "import numpy as np\n",
    "import configparser\n",
    "# from pyDOE import lhs\n",
    "config = configparser.ConfigParser()\n",
    "\n",
    "fname = '/global/cfs/cdirs/des/shivamp/cosmosis2p0/cosmosis-standard-library/gen_moments/cosmosis/ini/test_values.ini'\n",
    "config.read(fname)\n",
    "\n",
    "\n",
    "sec_names = list(config.keys())[1:]\n",
    "\n",
    "all_vary_names = []\n",
    "all_vary_minv = []\n",
    "all_vary_maxv = []\n",
    "all_vary_fidv = []\n",
    "for sec in sec_names:\n",
    "    var_names = list(config[sec].keys())\n",
    "    for var in var_names:\n",
    "        rangev = (config[sec][var])\n",
    "        rangev_arr = list(map(float,rangev.split())) \n",
    "        if len(rangev_arr) > 1:\n",
    "            all_vary_names.append(sec + '--' + var)\n",
    "            all_vary_minv.append(rangev_arr[0])\n",
    "            all_vary_maxv.append(rangev_arr[2])\n",
    "            all_vary_fidv.append(rangev_arr[1])\n",
    "\n",
    "    \n",
    "nvar_all = len(all_vary_names)\n",
    "xlimits = np.zeros((nvar_all,2))\n",
    "for jv in range((nvar_all)):\n",
    "    xlimits[jv,0] = 0.0\n",
    "    xlimits[jv,1] = 1.0\n",
    "\n",
    "    \n",
    "    "
   ]
  },
  {
   "cell_type": "code",
   "execution_count": 26,
   "id": "7db45535-775b-43e7-86de-827a86ba629d",
   "metadata": {},
   "outputs": [],
   "source": [
    "# nvar_all\n",
    "# all_vary_fidv\n"
   ]
  },
  {
   "cell_type": "code",
   "execution_count": 27,
   "id": "b93a141f-45b2-4cf1-86a4-3df8e57a0d59",
   "metadata": {},
   "outputs": [
    {
     "name": "stdout",
     "output_type": "stream",
     "text": [
      "cosmological_parameters--omega_m\n",
      "cosmological_parameters--h0\n",
      "cosmological_parameters--omega_b\n",
      "cosmological_parameters--n_s\n",
      "cosmological_parameters--a_s\n",
      "cosmological_parameters--mnu\n",
      "shear_calibration_parameters--m1\n",
      "shear_calibration_parameters--m2\n",
      "shear_calibration_parameters--m3\n",
      "shear_calibration_parameters--m4\n",
      "wl_photoz_errors--bias_1\n",
      "wl_photoz_errors--bias_2\n",
      "wl_photoz_errors--bias_3\n",
      "wl_photoz_errors--bias_4\n",
      "intrinsic_alignment_parameters--a1\n",
      "intrinsic_alignment_parameters--alpha1\n"
     ]
    }
   ],
   "source": [
    "LHS_points_all = []\n",
    "for js in range(nvar_all):\n",
    "    var_js = all_vary_names[js]\n",
    "    print(var_js)\n",
    "    num = 20\n",
    "    \n",
    "    params_vary_array = np.linspace(all_vary_minv[js], all_vary_maxv[js],num)\n",
    "    \n",
    "    LHS_points_js = np.tile(np.array(all_vary_fidv).reshape(1,nvar_all), (num, 1))\n",
    "    LHS_points_js[:,js] = params_vary_array\n",
    "    LHS_points_all.append(LHS_points_js)\n",
    "    \n",
    "LHS_points_all = np.vstack(LHS_points_all)    \n",
    "# x = sampling(num)\n",
    "\n",
    "# nLHS = num\n",
    "# LHS_points = x\n",
    "\n",
    "# LHS_ids = np.arange(nLHS).astype(int)\n",
    "\n",
    "# LHS_points_final = np.zeros_like(LHS_points)\n",
    "# for jv in range(nvar_all):\n",
    "#     LHS_points_final[:,jv] = all_vary_minv[jv] + (all_vary_maxv[jv]-all_vary_minv[jv]) * LHS_points[:,jv]\n",
    "\n",
    "# LHS_points_final = np.hstack((np.array([LHS_ids]).T,LHS_points_final))\n",
    "\n"
   ]
  },
  {
   "cell_type": "code",
   "execution_count": 28,
   "id": "3beaa0cf-9bab-48d2-88f0-1323bc3f602e",
   "metadata": {},
   "outputs": [],
   "source": [
    "# LHS_points_all.shape\n",
    "nLHS = LHS_points_all.shape[0]\n",
    "LHS_ids = np.arange(nLHS).astype(int)\n",
    "\n",
    "# LHS_points_final = np.zeros_like(LHS_points)\n",
    "# for jv in range(nvar_all):\n",
    "#     LHS_points_final[:,jv] = all_vary_minv[jv] + (all_vary_maxv[jv]-all_vary_minv[jv]) * LHS_points[:,jv]\n",
    "\n",
    "LHS_points_final = np.hstack((np.array([LHS_ids]).T,LHS_points_all))\n",
    "\n",
    "\n"
   ]
  },
  {
   "cell_type": "code",
   "execution_count": 29,
   "id": "afe2615a-049d-42f7-a87f-0d45fcb8f6a9",
   "metadata": {},
   "outputs": [],
   "source": [
    "# LHS_points_final.shape\n",
    "sdir = '/global/cfs/cdirs/des/shivamp/cosmosis2p0/cosmosis-standard-library/saveDVs/'\n",
    "first_line = 'emusave--lhsid    '\n",
    "for var in all_vary_names:\n",
    "    first_line += str(var) + '    '\n",
    "\n",
    "# np.savetxt('sample_chain_listsampler_hres_fixw_ese_rs' + str(rsv[jsv]) + '.txt',LHS_points_final,header=first_line)\n",
    "# np.savetxt('sample_chain_listsampler_hres_fixw_cm_rs' + str(rsv[jsv]) + '.txt',LHS_points_final,header=first_line)\n",
    "np.savetxt(sdir + '1P_set_samp.txt',LHS_points_final,header=first_line)\n",
    "\n",
    "\n"
   ]
  },
  {
   "cell_type": "code",
   "execution_count": 30,
   "id": "df146dbe-3dd7-493c-823d-fa1dc0d9c7eb",
   "metadata": {},
   "outputs": [
    {
     "data": {
      "text/plain": [
       "array([[0.00000000e+00, 2.00000000e-01, 6.90000000e-01, ...,\n",
       "        0.00000000e+00, 1.00000000e+00, 1.00000000e+00],\n",
       "       [1.00000000e+00, 2.21052632e-01, 6.90000000e-01, ...,\n",
       "        0.00000000e+00, 1.00000000e+00, 1.00000000e+00],\n",
       "       [2.00000000e+00, 2.42105263e-01, 6.90000000e-01, ...,\n",
       "        0.00000000e+00, 1.00000000e+00, 1.00000000e+00],\n",
       "       ...,\n",
       "       [3.17000000e+02, 3.00000000e-01, 6.90000000e-01, ...,\n",
       "        0.00000000e+00, 1.00000000e+00, 3.94736842e+00],\n",
       "       [3.18000000e+02, 3.00000000e-01, 6.90000000e-01, ...,\n",
       "        0.00000000e+00, 1.00000000e+00, 4.47368421e+00],\n",
       "       [3.19000000e+02, 3.00000000e-01, 6.90000000e-01, ...,\n",
       "        0.00000000e+00, 1.00000000e+00, 5.00000000e+00]])"
      ]
     },
     "execution_count": 30,
     "metadata": {},
     "output_type": "execute_result"
    }
   ],
   "source": [
    "LHS_points_final\n"
   ]
  },
  {
   "cell_type": "code",
   "execution_count": null,
   "id": "ef1167d0-478f-45dd-a2c4-195436175834",
   "metadata": {},
   "outputs": [],
   "source": []
  }
 ],
 "metadata": {
  "kernelspec": {
   "display_name": "myenv3-jp",
   "language": "python",
   "name": "myenv3-jp"
  },
  "language_info": {
   "codemirror_mode": {
    "name": "ipython",
    "version": 3
   },
   "file_extension": ".py",
   "mimetype": "text/x-python",
   "name": "python",
   "nbconvert_exporter": "python",
   "pygments_lexer": "ipython3",
   "version": "3.7.10"
  }
 },
 "nbformat": 4,
 "nbformat_minor": 5
}

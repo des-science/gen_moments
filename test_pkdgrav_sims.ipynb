{
 "cells": [
  {
   "cell_type": "code",
   "execution_count": null,
   "id": "94e0d149-97f8-4685-82ef-b578f29dd0c0",
   "metadata": {},
   "outputs": [],
   "source": []
  },
  {
   "cell_type": "code",
   "execution_count": 104,
   "id": "cd63335c-c593-45b3-85ca-5d9d2ef78d4e",
   "metadata": {
    "collapsed": true,
    "jupyter": {
     "outputs_hidden": true
    },
    "tags": []
   },
   "outputs": [
    {
     "name": "stderr",
     "output_type": "stream",
     "text": [
      "  0%|          | 0/50 [00:00<?, ?it/s]"
     ]
    },
    {
     "name": "stdout",
     "output_type": "stream",
     "text": [
      "Sigma is 30.000000 arcmin (0.008727 rad) \n",
      "-> fwhm is 70.644601 arcmin\n",
      "Sigma is 0.000000 arcmin (0.000000 rad) \n",
      "-> fwhm is 0.000000 arcmin\n",
      "Sigma is 60.000000 arcmin (0.017453 rad) \n",
      "-> fwhm is 141.289203 arcmin\n",
      "Sigma is 0.000000 arcmin (0.000000 rad) \n",
      "-> fwhm is 0.000000 arcmin\n",
      "Sigma is 180.000000 arcmin (0.052360 rad) \n",
      "-> fwhm is 423.867608 arcmin\n",
      "Sigma is 0.000000 arcmin (0.000000 rad) \n",
      "-> fwhm is 0.000000 arcmin\n",
      "Sigma is 30.000000 arcmin (0.008727 rad) \n",
      "-> fwhm is 70.644601 arcmin\n",
      "Sigma is 0.000000 arcmin (0.000000 rad) \n",
      "-> fwhm is 0.000000 arcmin\n",
      "Sigma is 60.000000 arcmin (0.017453 rad) \n",
      "-> fwhm is 141.289203 arcmin\n",
      "Sigma is 0.000000 arcmin (0.000000 rad) \n",
      "-> fwhm is 0.000000 arcmin\n",
      "Sigma is 180.000000 arcmin (0.052360 rad) \n",
      "-> fwhm is 423.867608 arcmin\n",
      "Sigma is 0.000000 arcmin (0.000000 rad) \n",
      "-> fwhm is 0.000000 arcmin\n",
      "Sigma is 30.000000 arcmin (0.008727 rad) \n",
      "-> fwhm is 70.644601 arcmin\n",
      "Sigma is 0.000000 arcmin (0.000000 rad) \n",
      "-> fwhm is 0.000000 arcmin\n",
      "Sigma is 60.000000 arcmin (0.017453 rad) \n",
      "-> fwhm is 141.289203 arcmin\n",
      "Sigma is 0.000000 arcmin (0.000000 rad) \n",
      "-> fwhm is 0.000000 arcmin\n",
      "Sigma is 180.000000 arcmin (0.052360 rad) \n",
      "-> fwhm is 423.867608 arcmin\n",
      "Sigma is 0.000000 arcmin (0.000000 rad) \n",
      "-> fwhm is 0.000000 arcmin\n"
     ]
    },
    {
     "name": "stderr",
     "output_type": "stream",
     "text": [
      "  2%|▏         | 1/50 [00:12<10:16, 12.58s/it]"
     ]
    },
    {
     "name": "stdout",
     "output_type": "stream",
     "text": [
      "Sigma is 30.000000 arcmin (0.008727 rad) \n",
      "-> fwhm is 70.644601 arcmin\n",
      "Sigma is 0.000000 arcmin (0.000000 rad) \n",
      "-> fwhm is 0.000000 arcmin\n",
      "Sigma is 60.000000 arcmin (0.017453 rad) \n",
      "-> fwhm is 141.289203 arcmin\n",
      "Sigma is 0.000000 arcmin (0.000000 rad) \n",
      "-> fwhm is 0.000000 arcmin\n",
      "Sigma is 180.000000 arcmin (0.052360 rad) \n",
      "-> fwhm is 423.867608 arcmin\n",
      "Sigma is 0.000000 arcmin (0.000000 rad) \n",
      "-> fwhm is 0.000000 arcmin\n",
      "Sigma is 30.000000 arcmin (0.008727 rad) \n",
      "-> fwhm is 70.644601 arcmin\n",
      "Sigma is 0.000000 arcmin (0.000000 rad) \n",
      "-> fwhm is 0.000000 arcmin\n",
      "Sigma is 60.000000 arcmin (0.017453 rad) \n",
      "-> fwhm is 141.289203 arcmin\n",
      "Sigma is 0.000000 arcmin (0.000000 rad) \n",
      "-> fwhm is 0.000000 arcmin\n",
      "Sigma is 180.000000 arcmin (0.052360 rad) \n",
      "-> fwhm is 423.867608 arcmin\n",
      "Sigma is 0.000000 arcmin (0.000000 rad) \n",
      "-> fwhm is 0.000000 arcmin\n",
      "Sigma is 30.000000 arcmin (0.008727 rad) \n",
      "-> fwhm is 70.644601 arcmin\n",
      "Sigma is 0.000000 arcmin (0.000000 rad) \n",
      "-> fwhm is 0.000000 arcmin\n",
      "Sigma is 60.000000 arcmin (0.017453 rad) \n",
      "-> fwhm is 141.289203 arcmin\n",
      "Sigma is 0.000000 arcmin (0.000000 rad) \n",
      "-> fwhm is 0.000000 arcmin\n",
      "Sigma is 180.000000 arcmin (0.052360 rad) \n",
      "-> fwhm is 423.867608 arcmin\n",
      "Sigma is 0.000000 arcmin (0.000000 rad) \n",
      "-> fwhm is 0.000000 arcmin\n"
     ]
    },
    {
     "name": "stderr",
     "output_type": "stream",
     "text": [
      "  4%|▍         | 2/50 [00:24<09:50, 12.31s/it]"
     ]
    },
    {
     "name": "stdout",
     "output_type": "stream",
     "text": [
      "Sigma is 30.000000 arcmin (0.008727 rad) \n",
      "-> fwhm is 70.644601 arcmin\n",
      "Sigma is 0.000000 arcmin (0.000000 rad) \n",
      "-> fwhm is 0.000000 arcmin\n",
      "Sigma is 60.000000 arcmin (0.017453 rad) \n",
      "-> fwhm is 141.289203 arcmin\n",
      "Sigma is 0.000000 arcmin (0.000000 rad) \n",
      "-> fwhm is 0.000000 arcmin\n",
      "Sigma is 180.000000 arcmin (0.052360 rad) \n",
      "-> fwhm is 423.867608 arcmin\n",
      "Sigma is 0.000000 arcmin (0.000000 rad) \n",
      "-> fwhm is 0.000000 arcmin\n",
      "Sigma is 30.000000 arcmin (0.008727 rad) \n",
      "-> fwhm is 70.644601 arcmin\n",
      "Sigma is 0.000000 arcmin (0.000000 rad) \n",
      "-> fwhm is 0.000000 arcmin\n",
      "Sigma is 60.000000 arcmin (0.017453 rad) \n",
      "-> fwhm is 141.289203 arcmin\n",
      "Sigma is 0.000000 arcmin (0.000000 rad) \n",
      "-> fwhm is 0.000000 arcmin\n",
      "Sigma is 180.000000 arcmin (0.052360 rad) \n",
      "-> fwhm is 423.867608 arcmin\n",
      "Sigma is 0.000000 arcmin (0.000000 rad) \n",
      "-> fwhm is 0.000000 arcmin\n",
      "Sigma is 30.000000 arcmin (0.008727 rad) \n",
      "-> fwhm is 70.644601 arcmin\n",
      "Sigma is 0.000000 arcmin (0.000000 rad) \n",
      "-> fwhm is 0.000000 arcmin\n",
      "Sigma is 60.000000 arcmin (0.017453 rad) \n",
      "-> fwhm is 141.289203 arcmin\n",
      "Sigma is 0.000000 arcmin (0.000000 rad) \n",
      "-> fwhm is 0.000000 arcmin\n",
      "Sigma is 180.000000 arcmin (0.052360 rad) \n",
      "-> fwhm is 423.867608 arcmin\n",
      "Sigma is 0.000000 arcmin (0.000000 rad) \n",
      "-> fwhm is 0.000000 arcmin\n"
     ]
    },
    {
     "name": "stderr",
     "output_type": "stream",
     "text": [
      "  6%|▌         | 3/50 [00:36<09:37, 12.28s/it]"
     ]
    },
    {
     "name": "stdout",
     "output_type": "stream",
     "text": [
      "Sigma is 30.000000 arcmin (0.008727 rad) \n",
      "-> fwhm is 70.644601 arcmin\n",
      "Sigma is 0.000000 arcmin (0.000000 rad) \n",
      "-> fwhm is 0.000000 arcmin\n",
      "Sigma is 60.000000 arcmin (0.017453 rad) \n",
      "-> fwhm is 141.289203 arcmin\n",
      "Sigma is 0.000000 arcmin (0.000000 rad) \n",
      "-> fwhm is 0.000000 arcmin\n",
      "Sigma is 180.000000 arcmin (0.052360 rad) \n",
      "-> fwhm is 423.867608 arcmin\n",
      "Sigma is 0.000000 arcmin (0.000000 rad) \n",
      "-> fwhm is 0.000000 arcmin\n",
      "Sigma is 30.000000 arcmin (0.008727 rad) \n",
      "-> fwhm is 70.644601 arcmin\n",
      "Sigma is 0.000000 arcmin (0.000000 rad) \n",
      "-> fwhm is 0.000000 arcmin\n",
      "Sigma is 60.000000 arcmin (0.017453 rad) \n",
      "-> fwhm is 141.289203 arcmin\n",
      "Sigma is 0.000000 arcmin (0.000000 rad) \n",
      "-> fwhm is 0.000000 arcmin\n",
      "Sigma is 180.000000 arcmin (0.052360 rad) \n",
      "-> fwhm is 423.867608 arcmin\n",
      "Sigma is 0.000000 arcmin (0.000000 rad) \n",
      "-> fwhm is 0.000000 arcmin\n",
      "Sigma is 30.000000 arcmin (0.008727 rad) \n",
      "-> fwhm is 70.644601 arcmin\n",
      "Sigma is 0.000000 arcmin (0.000000 rad) \n",
      "-> fwhm is 0.000000 arcmin\n",
      "Sigma is 60.000000 arcmin (0.017453 rad) \n",
      "-> fwhm is 141.289203 arcmin\n",
      "Sigma is 0.000000 arcmin (0.000000 rad) \n",
      "-> fwhm is 0.000000 arcmin\n",
      "Sigma is 180.000000 arcmin (0.052360 rad) \n",
      "-> fwhm is 423.867608 arcmin\n",
      "Sigma is 0.000000 arcmin (0.000000 rad) \n",
      "-> fwhm is 0.000000 arcmin\n"
     ]
    },
    {
     "name": "stderr",
     "output_type": "stream",
     "text": [
      "  8%|▊         | 4/50 [00:48<09:19, 12.15s/it]"
     ]
    },
    {
     "name": "stdout",
     "output_type": "stream",
     "text": [
      "Sigma is 30.000000 arcmin (0.008727 rad) \n",
      "-> fwhm is 70.644601 arcmin\n",
      "Sigma is 0.000000 arcmin (0.000000 rad) \n",
      "-> fwhm is 0.000000 arcmin\n",
      "Sigma is 60.000000 arcmin (0.017453 rad) \n",
      "-> fwhm is 141.289203 arcmin\n",
      "Sigma is 0.000000 arcmin (0.000000 rad) \n",
      "-> fwhm is 0.000000 arcmin\n",
      "Sigma is 180.000000 arcmin (0.052360 rad) \n",
      "-> fwhm is 423.867608 arcmin\n",
      "Sigma is 0.000000 arcmin (0.000000 rad) \n",
      "-> fwhm is 0.000000 arcmin\n",
      "Sigma is 30.000000 arcmin (0.008727 rad) \n",
      "-> fwhm is 70.644601 arcmin\n",
      "Sigma is 0.000000 arcmin (0.000000 rad) \n",
      "-> fwhm is 0.000000 arcmin\n",
      "Sigma is 60.000000 arcmin (0.017453 rad) \n",
      "-> fwhm is 141.289203 arcmin\n",
      "Sigma is 0.000000 arcmin (0.000000 rad) \n",
      "-> fwhm is 0.000000 arcmin\n",
      "Sigma is 180.000000 arcmin (0.052360 rad) \n",
      "-> fwhm is 423.867608 arcmin\n",
      "Sigma is 0.000000 arcmin (0.000000 rad) \n",
      "-> fwhm is 0.000000 arcmin\n",
      "Sigma is 30.000000 arcmin (0.008727 rad) \n",
      "-> fwhm is 70.644601 arcmin\n",
      "Sigma is 0.000000 arcmin (0.000000 rad) \n",
      "-> fwhm is 0.000000 arcmin\n",
      "Sigma is 60.000000 arcmin (0.017453 rad) \n",
      "-> fwhm is 141.289203 arcmin\n",
      "Sigma is 0.000000 arcmin (0.000000 rad) \n",
      "-> fwhm is 0.000000 arcmin\n",
      "Sigma is 180.000000 arcmin (0.052360 rad) \n",
      "-> fwhm is 423.867608 arcmin\n",
      "Sigma is 0.000000 arcmin (0.000000 rad) \n",
      "-> fwhm is 0.000000 arcmin\n"
     ]
    },
    {
     "name": "stderr",
     "output_type": "stream",
     "text": [
      " 10%|█         | 5/50 [01:00<09:08, 12.19s/it]"
     ]
    },
    {
     "name": "stdout",
     "output_type": "stream",
     "text": [
      "Sigma is 30.000000 arcmin (0.008727 rad) \n",
      "-> fwhm is 70.644601 arcmin\n",
      "Sigma is 0.000000 arcmin (0.000000 rad) \n",
      "-> fwhm is 0.000000 arcmin\n",
      "Sigma is 60.000000 arcmin (0.017453 rad) \n",
      "-> fwhm is 141.289203 arcmin\n",
      "Sigma is 0.000000 arcmin (0.000000 rad) \n",
      "-> fwhm is 0.000000 arcmin\n",
      "Sigma is 180.000000 arcmin (0.052360 rad) \n",
      "-> fwhm is 423.867608 arcmin\n",
      "Sigma is 0.000000 arcmin (0.000000 rad) \n",
      "-> fwhm is 0.000000 arcmin\n",
      "Sigma is 30.000000 arcmin (0.008727 rad) \n",
      "-> fwhm is 70.644601 arcmin\n",
      "Sigma is 0.000000 arcmin (0.000000 rad) \n",
      "-> fwhm is 0.000000 arcmin\n",
      "Sigma is 60.000000 arcmin (0.017453 rad) \n",
      "-> fwhm is 141.289203 arcmin\n",
      "Sigma is 0.000000 arcmin (0.000000 rad) \n",
      "-> fwhm is 0.000000 arcmin\n",
      "Sigma is 180.000000 arcmin (0.052360 rad) \n",
      "-> fwhm is 423.867608 arcmin\n",
      "Sigma is 0.000000 arcmin (0.000000 rad) \n",
      "-> fwhm is 0.000000 arcmin\n",
      "Sigma is 30.000000 arcmin (0.008727 rad) \n",
      "-> fwhm is 70.644601 arcmin\n",
      "Sigma is 0.000000 arcmin (0.000000 rad) \n",
      "-> fwhm is 0.000000 arcmin\n",
      "Sigma is 60.000000 arcmin (0.017453 rad) \n",
      "-> fwhm is 141.289203 arcmin\n",
      "Sigma is 0.000000 arcmin (0.000000 rad) \n",
      "-> fwhm is 0.000000 arcmin\n",
      "Sigma is 180.000000 arcmin (0.052360 rad) \n",
      "-> fwhm is 423.867608 arcmin\n",
      "Sigma is 0.000000 arcmin (0.000000 rad) \n",
      "-> fwhm is 0.000000 arcmin\n"
     ]
    },
    {
     "name": "stderr",
     "output_type": "stream",
     "text": [
      " 12%|█▏        | 6/50 [01:13<08:59, 12.26s/it]"
     ]
    },
    {
     "name": "stdout",
     "output_type": "stream",
     "text": [
      "Sigma is 30.000000 arcmin (0.008727 rad) \n",
      "-> fwhm is 70.644601 arcmin\n",
      "Sigma is 0.000000 arcmin (0.000000 rad) \n",
      "-> fwhm is 0.000000 arcmin\n",
      "Sigma is 60.000000 arcmin (0.017453 rad) \n",
      "-> fwhm is 141.289203 arcmin\n",
      "Sigma is 0.000000 arcmin (0.000000 rad) \n",
      "-> fwhm is 0.000000 arcmin\n",
      "Sigma is 180.000000 arcmin (0.052360 rad) \n",
      "-> fwhm is 423.867608 arcmin\n",
      "Sigma is 0.000000 arcmin (0.000000 rad) \n",
      "-> fwhm is 0.000000 arcmin\n",
      "Sigma is 30.000000 arcmin (0.008727 rad) \n",
      "-> fwhm is 70.644601 arcmin\n",
      "Sigma is 0.000000 arcmin (0.000000 rad) \n",
      "-> fwhm is 0.000000 arcmin\n",
      "Sigma is 60.000000 arcmin (0.017453 rad) \n",
      "-> fwhm is 141.289203 arcmin\n",
      "Sigma is 0.000000 arcmin (0.000000 rad) \n",
      "-> fwhm is 0.000000 arcmin\n",
      "Sigma is 180.000000 arcmin (0.052360 rad) \n",
      "-> fwhm is 423.867608 arcmin\n",
      "Sigma is 0.000000 arcmin (0.000000 rad) \n",
      "-> fwhm is 0.000000 arcmin\n",
      "Sigma is 30.000000 arcmin (0.008727 rad) \n",
      "-> fwhm is 70.644601 arcmin\n",
      "Sigma is 0.000000 arcmin (0.000000 rad) \n",
      "-> fwhm is 0.000000 arcmin\n",
      "Sigma is 60.000000 arcmin (0.017453 rad) \n",
      "-> fwhm is 141.289203 arcmin\n",
      "Sigma is 0.000000 arcmin (0.000000 rad) \n",
      "-> fwhm is 0.000000 arcmin\n",
      "Sigma is 180.000000 arcmin (0.052360 rad) \n",
      "-> fwhm is 423.867608 arcmin\n",
      "Sigma is 0.000000 arcmin (0.000000 rad) \n",
      "-> fwhm is 0.000000 arcmin\n"
     ]
    },
    {
     "name": "stderr",
     "output_type": "stream",
     "text": [
      " 14%|█▍        | 7/50 [01:25<08:46, 12.25s/it]"
     ]
    },
    {
     "name": "stdout",
     "output_type": "stream",
     "text": [
      "Sigma is 30.000000 arcmin (0.008727 rad) \n",
      "-> fwhm is 70.644601 arcmin\n",
      "Sigma is 0.000000 arcmin (0.000000 rad) \n",
      "-> fwhm is 0.000000 arcmin\n",
      "Sigma is 60.000000 arcmin (0.017453 rad) \n",
      "-> fwhm is 141.289203 arcmin\n",
      "Sigma is 0.000000 arcmin (0.000000 rad) \n",
      "-> fwhm is 0.000000 arcmin\n",
      "Sigma is 180.000000 arcmin (0.052360 rad) \n",
      "-> fwhm is 423.867608 arcmin\n",
      "Sigma is 0.000000 arcmin (0.000000 rad) \n",
      "-> fwhm is 0.000000 arcmin\n",
      "Sigma is 30.000000 arcmin (0.008727 rad) \n",
      "-> fwhm is 70.644601 arcmin\n",
      "Sigma is 0.000000 arcmin (0.000000 rad) \n",
      "-> fwhm is 0.000000 arcmin\n",
      "Sigma is 60.000000 arcmin (0.017453 rad) \n",
      "-> fwhm is 141.289203 arcmin\n",
      "Sigma is 0.000000 arcmin (0.000000 rad) \n",
      "-> fwhm is 0.000000 arcmin\n",
      "Sigma is 180.000000 arcmin (0.052360 rad) \n",
      "-> fwhm is 423.867608 arcmin\n",
      "Sigma is 0.000000 arcmin (0.000000 rad) \n",
      "-> fwhm is 0.000000 arcmin\n",
      "Sigma is 30.000000 arcmin (0.008727 rad) \n",
      "-> fwhm is 70.644601 arcmin\n",
      "Sigma is 0.000000 arcmin (0.000000 rad) \n",
      "-> fwhm is 0.000000 arcmin\n",
      "Sigma is 60.000000 arcmin (0.017453 rad) \n",
      "-> fwhm is 141.289203 arcmin\n",
      "Sigma is 0.000000 arcmin (0.000000 rad) \n",
      "-> fwhm is 0.000000 arcmin\n",
      "Sigma is 180.000000 arcmin (0.052360 rad) \n",
      "-> fwhm is 423.867608 arcmin\n",
      "Sigma is 0.000000 arcmin (0.000000 rad) \n",
      "-> fwhm is 0.000000 arcmin\n"
     ]
    },
    {
     "name": "stderr",
     "output_type": "stream",
     "text": [
      " 16%|█▌        | 8/50 [01:37<08:34, 12.26s/it]"
     ]
    },
    {
     "name": "stdout",
     "output_type": "stream",
     "text": [
      "Sigma is 30.000000 arcmin (0.008727 rad) \n",
      "-> fwhm is 70.644601 arcmin\n",
      "Sigma is 0.000000 arcmin (0.000000 rad) \n",
      "-> fwhm is 0.000000 arcmin\n",
      "Sigma is 60.000000 arcmin (0.017453 rad) \n",
      "-> fwhm is 141.289203 arcmin\n",
      "Sigma is 0.000000 arcmin (0.000000 rad) \n",
      "-> fwhm is 0.000000 arcmin\n",
      "Sigma is 180.000000 arcmin (0.052360 rad) \n",
      "-> fwhm is 423.867608 arcmin\n",
      "Sigma is 0.000000 arcmin (0.000000 rad) \n",
      "-> fwhm is 0.000000 arcmin\n",
      "Sigma is 30.000000 arcmin (0.008727 rad) \n",
      "-> fwhm is 70.644601 arcmin\n",
      "Sigma is 0.000000 arcmin (0.000000 rad) \n",
      "-> fwhm is 0.000000 arcmin\n",
      "Sigma is 60.000000 arcmin (0.017453 rad) \n",
      "-> fwhm is 141.289203 arcmin\n",
      "Sigma is 0.000000 arcmin (0.000000 rad) \n",
      "-> fwhm is 0.000000 arcmin\n",
      "Sigma is 180.000000 arcmin (0.052360 rad) \n",
      "-> fwhm is 423.867608 arcmin\n",
      "Sigma is 0.000000 arcmin (0.000000 rad) \n",
      "-> fwhm is 0.000000 arcmin\n",
      "Sigma is 30.000000 arcmin (0.008727 rad) \n",
      "-> fwhm is 70.644601 arcmin\n",
      "Sigma is 0.000000 arcmin (0.000000 rad) \n",
      "-> fwhm is 0.000000 arcmin\n",
      "Sigma is 60.000000 arcmin (0.017453 rad) \n",
      "-> fwhm is 141.289203 arcmin\n",
      "Sigma is 0.000000 arcmin (0.000000 rad) \n",
      "-> fwhm is 0.000000 arcmin\n",
      "Sigma is 180.000000 arcmin (0.052360 rad) \n",
      "-> fwhm is 423.867608 arcmin\n",
      "Sigma is 0.000000 arcmin (0.000000 rad) \n",
      "-> fwhm is 0.000000 arcmin\n"
     ]
    },
    {
     "name": "stderr",
     "output_type": "stream",
     "text": [
      " 18%|█▊        | 9/50 [01:49<08:19, 12.19s/it]"
     ]
    },
    {
     "name": "stdout",
     "output_type": "stream",
     "text": [
      "Sigma is 30.000000 arcmin (0.008727 rad) \n",
      "-> fwhm is 70.644601 arcmin\n",
      "Sigma is 0.000000 arcmin (0.000000 rad) \n",
      "-> fwhm is 0.000000 arcmin\n",
      "Sigma is 60.000000 arcmin (0.017453 rad) \n",
      "-> fwhm is 141.289203 arcmin\n",
      "Sigma is 0.000000 arcmin (0.000000 rad) \n",
      "-> fwhm is 0.000000 arcmin\n",
      "Sigma is 180.000000 arcmin (0.052360 rad) \n",
      "-> fwhm is 423.867608 arcmin\n",
      "Sigma is 0.000000 arcmin (0.000000 rad) \n",
      "-> fwhm is 0.000000 arcmin\n",
      "Sigma is 30.000000 arcmin (0.008727 rad) \n",
      "-> fwhm is 70.644601 arcmin\n",
      "Sigma is 0.000000 arcmin (0.000000 rad) \n",
      "-> fwhm is 0.000000 arcmin\n",
      "Sigma is 60.000000 arcmin (0.017453 rad) \n",
      "-> fwhm is 141.289203 arcmin\n",
      "Sigma is 0.000000 arcmin (0.000000 rad) \n",
      "-> fwhm is 0.000000 arcmin\n",
      "Sigma is 180.000000 arcmin (0.052360 rad) \n",
      "-> fwhm is 423.867608 arcmin\n",
      "Sigma is 0.000000 arcmin (0.000000 rad) \n",
      "-> fwhm is 0.000000 arcmin\n",
      "Sigma is 30.000000 arcmin (0.008727 rad) \n",
      "-> fwhm is 70.644601 arcmin\n",
      "Sigma is 0.000000 arcmin (0.000000 rad) \n",
      "-> fwhm is 0.000000 arcmin\n",
      "Sigma is 60.000000 arcmin (0.017453 rad) \n",
      "-> fwhm is 141.289203 arcmin\n",
      "Sigma is 0.000000 arcmin (0.000000 rad) \n",
      "-> fwhm is 0.000000 arcmin\n",
      "Sigma is 180.000000 arcmin (0.052360 rad) \n",
      "-> fwhm is 423.867608 arcmin\n",
      "Sigma is 0.000000 arcmin (0.000000 rad) \n",
      "-> fwhm is 0.000000 arcmin\n"
     ]
    },
    {
     "name": "stderr",
     "output_type": "stream",
     "text": [
      " 20%|██        | 10/50 [02:00<07:58, 11.95s/it]"
     ]
    },
    {
     "name": "stdout",
     "output_type": "stream",
     "text": [
      "Sigma is 30.000000 arcmin (0.008727 rad) \n",
      "-> fwhm is 70.644601 arcmin\n",
      "Sigma is 0.000000 arcmin (0.000000 rad) \n",
      "-> fwhm is 0.000000 arcmin\n",
      "Sigma is 60.000000 arcmin (0.017453 rad) \n",
      "-> fwhm is 141.289203 arcmin\n",
      "Sigma is 0.000000 arcmin (0.000000 rad) \n",
      "-> fwhm is 0.000000 arcmin\n",
      "Sigma is 180.000000 arcmin (0.052360 rad) \n",
      "-> fwhm is 423.867608 arcmin\n",
      "Sigma is 0.000000 arcmin (0.000000 rad) \n",
      "-> fwhm is 0.000000 arcmin\n",
      "Sigma is 30.000000 arcmin (0.008727 rad) \n",
      "-> fwhm is 70.644601 arcmin\n",
      "Sigma is 0.000000 arcmin (0.000000 rad) \n",
      "-> fwhm is 0.000000 arcmin\n",
      "Sigma is 60.000000 arcmin (0.017453 rad) \n",
      "-> fwhm is 141.289203 arcmin\n",
      "Sigma is 0.000000 arcmin (0.000000 rad) \n",
      "-> fwhm is 0.000000 arcmin\n",
      "Sigma is 180.000000 arcmin (0.052360 rad) \n",
      "-> fwhm is 423.867608 arcmin\n",
      "Sigma is 0.000000 arcmin (0.000000 rad) \n",
      "-> fwhm is 0.000000 arcmin\n",
      "Sigma is 30.000000 arcmin (0.008727 rad) \n",
      "-> fwhm is 70.644601 arcmin\n",
      "Sigma is 0.000000 arcmin (0.000000 rad) \n",
      "-> fwhm is 0.000000 arcmin\n",
      "Sigma is 60.000000 arcmin (0.017453 rad) \n",
      "-> fwhm is 141.289203 arcmin\n",
      "Sigma is 0.000000 arcmin (0.000000 rad) \n",
      "-> fwhm is 0.000000 arcmin\n",
      "Sigma is 180.000000 arcmin (0.052360 rad) \n",
      "-> fwhm is 423.867608 arcmin\n",
      "Sigma is 0.000000 arcmin (0.000000 rad) \n",
      "-> fwhm is 0.000000 arcmin\n"
     ]
    },
    {
     "name": "stderr",
     "output_type": "stream",
     "text": [
      " 22%|██▏       | 11/50 [02:12<07:45, 11.93s/it]"
     ]
    },
    {
     "name": "stdout",
     "output_type": "stream",
     "text": [
      "Sigma is 30.000000 arcmin (0.008727 rad) \n",
      "-> fwhm is 70.644601 arcmin\n",
      "Sigma is 0.000000 arcmin (0.000000 rad) \n",
      "-> fwhm is 0.000000 arcmin\n",
      "Sigma is 60.000000 arcmin (0.017453 rad) \n",
      "-> fwhm is 141.289203 arcmin\n",
      "Sigma is 0.000000 arcmin (0.000000 rad) \n",
      "-> fwhm is 0.000000 arcmin\n",
      "Sigma is 180.000000 arcmin (0.052360 rad) \n",
      "-> fwhm is 423.867608 arcmin\n",
      "Sigma is 0.000000 arcmin (0.000000 rad) \n",
      "-> fwhm is 0.000000 arcmin\n",
      "Sigma is 30.000000 arcmin (0.008727 rad) \n",
      "-> fwhm is 70.644601 arcmin\n",
      "Sigma is 0.000000 arcmin (0.000000 rad) \n",
      "-> fwhm is 0.000000 arcmin\n",
      "Sigma is 60.000000 arcmin (0.017453 rad) \n",
      "-> fwhm is 141.289203 arcmin\n",
      "Sigma is 0.000000 arcmin (0.000000 rad) \n",
      "-> fwhm is 0.000000 arcmin\n",
      "Sigma is 180.000000 arcmin (0.052360 rad) \n",
      "-> fwhm is 423.867608 arcmin\n",
      "Sigma is 0.000000 arcmin (0.000000 rad) \n",
      "-> fwhm is 0.000000 arcmin\n",
      "Sigma is 30.000000 arcmin (0.008727 rad) \n",
      "-> fwhm is 70.644601 arcmin\n",
      "Sigma is 0.000000 arcmin (0.000000 rad) \n",
      "-> fwhm is 0.000000 arcmin\n",
      "Sigma is 60.000000 arcmin (0.017453 rad) \n",
      "-> fwhm is 141.289203 arcmin\n",
      "Sigma is 0.000000 arcmin (0.000000 rad) \n",
      "-> fwhm is 0.000000 arcmin\n",
      "Sigma is 180.000000 arcmin (0.052360 rad) \n",
      "-> fwhm is 423.867608 arcmin\n",
      "Sigma is 0.000000 arcmin (0.000000 rad) \n",
      "-> fwhm is 0.000000 arcmin\n"
     ]
    },
    {
     "name": "stderr",
     "output_type": "stream",
     "text": [
      " 24%|██▍       | 12/50 [02:24<07:29, 11.83s/it]"
     ]
    },
    {
     "name": "stdout",
     "output_type": "stream",
     "text": [
      "Sigma is 30.000000 arcmin (0.008727 rad) \n",
      "-> fwhm is 70.644601 arcmin\n",
      "Sigma is 0.000000 arcmin (0.000000 rad) \n",
      "-> fwhm is 0.000000 arcmin\n",
      "Sigma is 60.000000 arcmin (0.017453 rad) \n",
      "-> fwhm is 141.289203 arcmin\n",
      "Sigma is 0.000000 arcmin (0.000000 rad) \n",
      "-> fwhm is 0.000000 arcmin\n",
      "Sigma is 180.000000 arcmin (0.052360 rad) \n",
      "-> fwhm is 423.867608 arcmin\n",
      "Sigma is 0.000000 arcmin (0.000000 rad) \n",
      "-> fwhm is 0.000000 arcmin\n",
      "Sigma is 30.000000 arcmin (0.008727 rad) \n",
      "-> fwhm is 70.644601 arcmin\n",
      "Sigma is 0.000000 arcmin (0.000000 rad) \n",
      "-> fwhm is 0.000000 arcmin\n",
      "Sigma is 60.000000 arcmin (0.017453 rad) \n",
      "-> fwhm is 141.289203 arcmin\n",
      "Sigma is 0.000000 arcmin (0.000000 rad) \n",
      "-> fwhm is 0.000000 arcmin\n",
      "Sigma is 180.000000 arcmin (0.052360 rad) \n",
      "-> fwhm is 423.867608 arcmin\n",
      "Sigma is 0.000000 arcmin (0.000000 rad) \n",
      "-> fwhm is 0.000000 arcmin\n",
      "Sigma is 30.000000 arcmin (0.008727 rad) \n",
      "-> fwhm is 70.644601 arcmin\n",
      "Sigma is 0.000000 arcmin (0.000000 rad) \n",
      "-> fwhm is 0.000000 arcmin\n",
      "Sigma is 60.000000 arcmin (0.017453 rad) \n",
      "-> fwhm is 141.289203 arcmin\n",
      "Sigma is 0.000000 arcmin (0.000000 rad) \n",
      "-> fwhm is 0.000000 arcmin\n",
      "Sigma is 180.000000 arcmin (0.052360 rad) \n",
      "-> fwhm is 423.867608 arcmin\n",
      "Sigma is 0.000000 arcmin (0.000000 rad) \n",
      "-> fwhm is 0.000000 arcmin\n"
     ]
    },
    {
     "name": "stderr",
     "output_type": "stream",
     "text": [
      " 26%|██▌       | 13/50 [02:37<07:26, 12.07s/it]"
     ]
    },
    {
     "name": "stdout",
     "output_type": "stream",
     "text": [
      "Sigma is 30.000000 arcmin (0.008727 rad) \n",
      "-> fwhm is 70.644601 arcmin\n",
      "Sigma is 0.000000 arcmin (0.000000 rad) \n",
      "-> fwhm is 0.000000 arcmin\n",
      "Sigma is 60.000000 arcmin (0.017453 rad) \n",
      "-> fwhm is 141.289203 arcmin\n",
      "Sigma is 0.000000 arcmin (0.000000 rad) \n",
      "-> fwhm is 0.000000 arcmin\n",
      "Sigma is 180.000000 arcmin (0.052360 rad) \n",
      "-> fwhm is 423.867608 arcmin\n",
      "Sigma is 0.000000 arcmin (0.000000 rad) \n",
      "-> fwhm is 0.000000 arcmin\n",
      "Sigma is 30.000000 arcmin (0.008727 rad) \n",
      "-> fwhm is 70.644601 arcmin\n",
      "Sigma is 0.000000 arcmin (0.000000 rad) \n",
      "-> fwhm is 0.000000 arcmin\n",
      "Sigma is 60.000000 arcmin (0.017453 rad) \n",
      "-> fwhm is 141.289203 arcmin\n",
      "Sigma is 0.000000 arcmin (0.000000 rad) \n",
      "-> fwhm is 0.000000 arcmin\n",
      "Sigma is 180.000000 arcmin (0.052360 rad) \n",
      "-> fwhm is 423.867608 arcmin\n",
      "Sigma is 0.000000 arcmin (0.000000 rad) \n",
      "-> fwhm is 0.000000 arcmin\n",
      "Sigma is 30.000000 arcmin (0.008727 rad) \n",
      "-> fwhm is 70.644601 arcmin\n",
      "Sigma is 0.000000 arcmin (0.000000 rad) \n",
      "-> fwhm is 0.000000 arcmin\n",
      "Sigma is 60.000000 arcmin (0.017453 rad) \n",
      "-> fwhm is 141.289203 arcmin\n",
      "Sigma is 0.000000 arcmin (0.000000 rad) \n",
      "-> fwhm is 0.000000 arcmin\n",
      "Sigma is 180.000000 arcmin (0.052360 rad) \n",
      "-> fwhm is 423.867608 arcmin\n",
      "Sigma is 0.000000 arcmin (0.000000 rad) \n",
      "-> fwhm is 0.000000 arcmin\n"
     ]
    },
    {
     "name": "stderr",
     "output_type": "stream",
     "text": [
      " 28%|██▊       | 14/50 [02:49<07:18, 12.19s/it]"
     ]
    },
    {
     "name": "stdout",
     "output_type": "stream",
     "text": [
      "Sigma is 30.000000 arcmin (0.008727 rad) \n",
      "-> fwhm is 70.644601 arcmin\n",
      "Sigma is 0.000000 arcmin (0.000000 rad) \n",
      "-> fwhm is 0.000000 arcmin\n",
      "Sigma is 60.000000 arcmin (0.017453 rad) \n",
      "-> fwhm is 141.289203 arcmin\n",
      "Sigma is 0.000000 arcmin (0.000000 rad) \n",
      "-> fwhm is 0.000000 arcmin\n",
      "Sigma is 180.000000 arcmin (0.052360 rad) \n",
      "-> fwhm is 423.867608 arcmin\n",
      "Sigma is 0.000000 arcmin (0.000000 rad) \n",
      "-> fwhm is 0.000000 arcmin\n",
      "Sigma is 30.000000 arcmin (0.008727 rad) \n",
      "-> fwhm is 70.644601 arcmin\n",
      "Sigma is 0.000000 arcmin (0.000000 rad) \n",
      "-> fwhm is 0.000000 arcmin\n",
      "Sigma is 60.000000 arcmin (0.017453 rad) \n",
      "-> fwhm is 141.289203 arcmin\n",
      "Sigma is 0.000000 arcmin (0.000000 rad) \n",
      "-> fwhm is 0.000000 arcmin\n",
      "Sigma is 180.000000 arcmin (0.052360 rad) \n",
      "-> fwhm is 423.867608 arcmin\n",
      "Sigma is 0.000000 arcmin (0.000000 rad) \n",
      "-> fwhm is 0.000000 arcmin\n",
      "Sigma is 30.000000 arcmin (0.008727 rad) \n",
      "-> fwhm is 70.644601 arcmin\n",
      "Sigma is 0.000000 arcmin (0.000000 rad) \n",
      "-> fwhm is 0.000000 arcmin\n",
      "Sigma is 60.000000 arcmin (0.017453 rad) \n",
      "-> fwhm is 141.289203 arcmin\n",
      "Sigma is 0.000000 arcmin (0.000000 rad) \n",
      "-> fwhm is 0.000000 arcmin\n",
      "Sigma is 180.000000 arcmin (0.052360 rad) \n",
      "-> fwhm is 423.867608 arcmin\n",
      "Sigma is 0.000000 arcmin (0.000000 rad) \n",
      "-> fwhm is 0.000000 arcmin\n"
     ]
    },
    {
     "name": "stderr",
     "output_type": "stream",
     "text": [
      " 30%|███       | 15/50 [03:02<07:11, 12.33s/it]"
     ]
    },
    {
     "name": "stdout",
     "output_type": "stream",
     "text": [
      "Sigma is 30.000000 arcmin (0.008727 rad) \n",
      "-> fwhm is 70.644601 arcmin\n",
      "Sigma is 0.000000 arcmin (0.000000 rad) \n",
      "-> fwhm is 0.000000 arcmin\n",
      "Sigma is 60.000000 arcmin (0.017453 rad) \n",
      "-> fwhm is 141.289203 arcmin\n",
      "Sigma is 0.000000 arcmin (0.000000 rad) \n",
      "-> fwhm is 0.000000 arcmin\n",
      "Sigma is 180.000000 arcmin (0.052360 rad) \n",
      "-> fwhm is 423.867608 arcmin\n",
      "Sigma is 0.000000 arcmin (0.000000 rad) \n",
      "-> fwhm is 0.000000 arcmin\n",
      "Sigma is 30.000000 arcmin (0.008727 rad) \n",
      "-> fwhm is 70.644601 arcmin\n",
      "Sigma is 0.000000 arcmin (0.000000 rad) \n",
      "-> fwhm is 0.000000 arcmin\n",
      "Sigma is 60.000000 arcmin (0.017453 rad) \n",
      "-> fwhm is 141.289203 arcmin\n",
      "Sigma is 0.000000 arcmin (0.000000 rad) \n",
      "-> fwhm is 0.000000 arcmin\n",
      "Sigma is 180.000000 arcmin (0.052360 rad) \n",
      "-> fwhm is 423.867608 arcmin\n",
      "Sigma is 0.000000 arcmin (0.000000 rad) \n",
      "-> fwhm is 0.000000 arcmin\n",
      "Sigma is 30.000000 arcmin (0.008727 rad) \n",
      "-> fwhm is 70.644601 arcmin\n",
      "Sigma is 0.000000 arcmin (0.000000 rad) \n",
      "-> fwhm is 0.000000 arcmin\n",
      "Sigma is 60.000000 arcmin (0.017453 rad) \n",
      "-> fwhm is 141.289203 arcmin\n",
      "Sigma is 0.000000 arcmin (0.000000 rad) \n",
      "-> fwhm is 0.000000 arcmin\n",
      "Sigma is 180.000000 arcmin (0.052360 rad) \n",
      "-> fwhm is 423.867608 arcmin\n",
      "Sigma is 0.000000 arcmin (0.000000 rad) \n",
      "-> fwhm is 0.000000 arcmin\n"
     ]
    },
    {
     "name": "stderr",
     "output_type": "stream",
     "text": [
      " 32%|███▏      | 16/50 [03:14<07:01, 12.39s/it]"
     ]
    },
    {
     "name": "stdout",
     "output_type": "stream",
     "text": [
      "Sigma is 30.000000 arcmin (0.008727 rad) \n",
      "-> fwhm is 70.644601 arcmin\n",
      "Sigma is 0.000000 arcmin (0.000000 rad) \n",
      "-> fwhm is 0.000000 arcmin\n",
      "Sigma is 60.000000 arcmin (0.017453 rad) \n",
      "-> fwhm is 141.289203 arcmin\n",
      "Sigma is 0.000000 arcmin (0.000000 rad) \n",
      "-> fwhm is 0.000000 arcmin\n",
      "Sigma is 180.000000 arcmin (0.052360 rad) \n",
      "-> fwhm is 423.867608 arcmin\n",
      "Sigma is 0.000000 arcmin (0.000000 rad) \n",
      "-> fwhm is 0.000000 arcmin\n",
      "Sigma is 30.000000 arcmin (0.008727 rad) \n",
      "-> fwhm is 70.644601 arcmin\n",
      "Sigma is 0.000000 arcmin (0.000000 rad) \n",
      "-> fwhm is 0.000000 arcmin\n",
      "Sigma is 60.000000 arcmin (0.017453 rad) \n",
      "-> fwhm is 141.289203 arcmin\n",
      "Sigma is 0.000000 arcmin (0.000000 rad) \n",
      "-> fwhm is 0.000000 arcmin\n",
      "Sigma is 180.000000 arcmin (0.052360 rad) \n",
      "-> fwhm is 423.867608 arcmin\n",
      "Sigma is 0.000000 arcmin (0.000000 rad) \n",
      "-> fwhm is 0.000000 arcmin\n",
      "Sigma is 30.000000 arcmin (0.008727 rad) \n",
      "-> fwhm is 70.644601 arcmin\n",
      "Sigma is 0.000000 arcmin (0.000000 rad) \n",
      "-> fwhm is 0.000000 arcmin\n",
      "Sigma is 60.000000 arcmin (0.017453 rad) \n",
      "-> fwhm is 141.289203 arcmin\n",
      "Sigma is 0.000000 arcmin (0.000000 rad) \n",
      "-> fwhm is 0.000000 arcmin\n",
      "Sigma is 180.000000 arcmin (0.052360 rad) \n",
      "-> fwhm is 423.867608 arcmin\n",
      "Sigma is 0.000000 arcmin (0.000000 rad) \n",
      "-> fwhm is 0.000000 arcmin\n"
     ]
    },
    {
     "name": "stderr",
     "output_type": "stream",
     "text": [
      " 34%|███▍      | 17/50 [03:26<06:46, 12.32s/it]"
     ]
    },
    {
     "name": "stdout",
     "output_type": "stream",
     "text": [
      "Sigma is 30.000000 arcmin (0.008727 rad) \n",
      "-> fwhm is 70.644601 arcmin\n",
      "Sigma is 0.000000 arcmin (0.000000 rad) \n",
      "-> fwhm is 0.000000 arcmin\n",
      "Sigma is 60.000000 arcmin (0.017453 rad) \n",
      "-> fwhm is 141.289203 arcmin\n",
      "Sigma is 0.000000 arcmin (0.000000 rad) \n",
      "-> fwhm is 0.000000 arcmin\n",
      "Sigma is 180.000000 arcmin (0.052360 rad) \n",
      "-> fwhm is 423.867608 arcmin\n",
      "Sigma is 0.000000 arcmin (0.000000 rad) \n",
      "-> fwhm is 0.000000 arcmin\n",
      "Sigma is 30.000000 arcmin (0.008727 rad) \n",
      "-> fwhm is 70.644601 arcmin\n",
      "Sigma is 0.000000 arcmin (0.000000 rad) \n",
      "-> fwhm is 0.000000 arcmin\n",
      "Sigma is 60.000000 arcmin (0.017453 rad) \n",
      "-> fwhm is 141.289203 arcmin\n",
      "Sigma is 0.000000 arcmin (0.000000 rad) \n",
      "-> fwhm is 0.000000 arcmin\n",
      "Sigma is 180.000000 arcmin (0.052360 rad) \n",
      "-> fwhm is 423.867608 arcmin\n",
      "Sigma is 0.000000 arcmin (0.000000 rad) \n",
      "-> fwhm is 0.000000 arcmin\n",
      "Sigma is 30.000000 arcmin (0.008727 rad) \n",
      "-> fwhm is 70.644601 arcmin\n",
      "Sigma is 0.000000 arcmin (0.000000 rad) \n",
      "-> fwhm is 0.000000 arcmin\n",
      "Sigma is 60.000000 arcmin (0.017453 rad) \n",
      "-> fwhm is 141.289203 arcmin\n",
      "Sigma is 0.000000 arcmin (0.000000 rad) \n",
      "-> fwhm is 0.000000 arcmin\n",
      "Sigma is 180.000000 arcmin (0.052360 rad) \n",
      "-> fwhm is 423.867608 arcmin\n",
      "Sigma is 0.000000 arcmin (0.000000 rad) \n",
      "-> fwhm is 0.000000 arcmin\n"
     ]
    },
    {
     "name": "stderr",
     "output_type": "stream",
     "text": [
      " 36%|███▌      | 18/50 [03:39<06:32, 12.28s/it]"
     ]
    },
    {
     "name": "stdout",
     "output_type": "stream",
     "text": [
      "Sigma is 30.000000 arcmin (0.008727 rad) \n",
      "-> fwhm is 70.644601 arcmin\n",
      "Sigma is 0.000000 arcmin (0.000000 rad) \n",
      "-> fwhm is 0.000000 arcmin\n",
      "Sigma is 60.000000 arcmin (0.017453 rad) \n",
      "-> fwhm is 141.289203 arcmin\n",
      "Sigma is 0.000000 arcmin (0.000000 rad) \n",
      "-> fwhm is 0.000000 arcmin\n",
      "Sigma is 180.000000 arcmin (0.052360 rad) \n",
      "-> fwhm is 423.867608 arcmin\n",
      "Sigma is 0.000000 arcmin (0.000000 rad) \n",
      "-> fwhm is 0.000000 arcmin\n",
      "Sigma is 30.000000 arcmin (0.008727 rad) \n",
      "-> fwhm is 70.644601 arcmin\n",
      "Sigma is 0.000000 arcmin (0.000000 rad) \n",
      "-> fwhm is 0.000000 arcmin\n",
      "Sigma is 60.000000 arcmin (0.017453 rad) \n",
      "-> fwhm is 141.289203 arcmin\n",
      "Sigma is 0.000000 arcmin (0.000000 rad) \n",
      "-> fwhm is 0.000000 arcmin\n",
      "Sigma is 180.000000 arcmin (0.052360 rad) \n",
      "-> fwhm is 423.867608 arcmin\n",
      "Sigma is 0.000000 arcmin (0.000000 rad) \n",
      "-> fwhm is 0.000000 arcmin\n",
      "Sigma is 30.000000 arcmin (0.008727 rad) \n",
      "-> fwhm is 70.644601 arcmin\n",
      "Sigma is 0.000000 arcmin (0.000000 rad) \n",
      "-> fwhm is 0.000000 arcmin\n",
      "Sigma is 60.000000 arcmin (0.017453 rad) \n",
      "-> fwhm is 141.289203 arcmin\n",
      "Sigma is 0.000000 arcmin (0.000000 rad) \n",
      "-> fwhm is 0.000000 arcmin\n",
      "Sigma is 180.000000 arcmin (0.052360 rad) \n",
      "-> fwhm is 423.867608 arcmin\n",
      "Sigma is 0.000000 arcmin (0.000000 rad) \n",
      "-> fwhm is 0.000000 arcmin\n"
     ]
    },
    {
     "name": "stderr",
     "output_type": "stream",
     "text": [
      " 38%|███▊      | 19/50 [03:51<06:19, 12.23s/it]"
     ]
    },
    {
     "name": "stdout",
     "output_type": "stream",
     "text": [
      "Sigma is 30.000000 arcmin (0.008727 rad) \n",
      "-> fwhm is 70.644601 arcmin\n",
      "Sigma is 0.000000 arcmin (0.000000 rad) \n",
      "-> fwhm is 0.000000 arcmin\n",
      "Sigma is 60.000000 arcmin (0.017453 rad) \n",
      "-> fwhm is 141.289203 arcmin\n",
      "Sigma is 0.000000 arcmin (0.000000 rad) \n",
      "-> fwhm is 0.000000 arcmin\n",
      "Sigma is 180.000000 arcmin (0.052360 rad) \n",
      "-> fwhm is 423.867608 arcmin\n",
      "Sigma is 0.000000 arcmin (0.000000 rad) \n",
      "-> fwhm is 0.000000 arcmin\n",
      "Sigma is 30.000000 arcmin (0.008727 rad) \n",
      "-> fwhm is 70.644601 arcmin\n",
      "Sigma is 0.000000 arcmin (0.000000 rad) \n",
      "-> fwhm is 0.000000 arcmin\n",
      "Sigma is 60.000000 arcmin (0.017453 rad) \n",
      "-> fwhm is 141.289203 arcmin\n",
      "Sigma is 0.000000 arcmin (0.000000 rad) \n",
      "-> fwhm is 0.000000 arcmin\n",
      "Sigma is 180.000000 arcmin (0.052360 rad) \n",
      "-> fwhm is 423.867608 arcmin\n",
      "Sigma is 0.000000 arcmin (0.000000 rad) \n",
      "-> fwhm is 0.000000 arcmin\n",
      "Sigma is 30.000000 arcmin (0.008727 rad) \n",
      "-> fwhm is 70.644601 arcmin\n",
      "Sigma is 0.000000 arcmin (0.000000 rad) \n",
      "-> fwhm is 0.000000 arcmin\n",
      "Sigma is 60.000000 arcmin (0.017453 rad) \n",
      "-> fwhm is 141.289203 arcmin\n",
      "Sigma is 0.000000 arcmin (0.000000 rad) \n",
      "-> fwhm is 0.000000 arcmin\n",
      "Sigma is 180.000000 arcmin (0.052360 rad) \n",
      "-> fwhm is 423.867608 arcmin\n",
      "Sigma is 0.000000 arcmin (0.000000 rad) \n",
      "-> fwhm is 0.000000 arcmin\n"
     ]
    },
    {
     "name": "stderr",
     "output_type": "stream",
     "text": [
      " 40%|████      | 20/50 [04:03<06:03, 12.13s/it]"
     ]
    },
    {
     "name": "stdout",
     "output_type": "stream",
     "text": [
      "Sigma is 30.000000 arcmin (0.008727 rad) \n",
      "-> fwhm is 70.644601 arcmin\n",
      "Sigma is 0.000000 arcmin (0.000000 rad) \n",
      "-> fwhm is 0.000000 arcmin\n",
      "Sigma is 60.000000 arcmin (0.017453 rad) \n",
      "-> fwhm is 141.289203 arcmin\n",
      "Sigma is 0.000000 arcmin (0.000000 rad) \n",
      "-> fwhm is 0.000000 arcmin\n",
      "Sigma is 180.000000 arcmin (0.052360 rad) \n",
      "-> fwhm is 423.867608 arcmin\n",
      "Sigma is 0.000000 arcmin (0.000000 rad) \n",
      "-> fwhm is 0.000000 arcmin\n",
      "Sigma is 30.000000 arcmin (0.008727 rad) \n",
      "-> fwhm is 70.644601 arcmin\n",
      "Sigma is 0.000000 arcmin (0.000000 rad) \n",
      "-> fwhm is 0.000000 arcmin\n",
      "Sigma is 60.000000 arcmin (0.017453 rad) \n",
      "-> fwhm is 141.289203 arcmin\n",
      "Sigma is 0.000000 arcmin (0.000000 rad) \n",
      "-> fwhm is 0.000000 arcmin\n",
      "Sigma is 180.000000 arcmin (0.052360 rad) \n",
      "-> fwhm is 423.867608 arcmin\n",
      "Sigma is 0.000000 arcmin (0.000000 rad) \n",
      "-> fwhm is 0.000000 arcmin\n",
      "Sigma is 30.000000 arcmin (0.008727 rad) \n",
      "-> fwhm is 70.644601 arcmin\n",
      "Sigma is 0.000000 arcmin (0.000000 rad) \n",
      "-> fwhm is 0.000000 arcmin\n",
      "Sigma is 60.000000 arcmin (0.017453 rad) \n",
      "-> fwhm is 141.289203 arcmin\n",
      "Sigma is 0.000000 arcmin (0.000000 rad) \n",
      "-> fwhm is 0.000000 arcmin\n",
      "Sigma is 180.000000 arcmin (0.052360 rad) \n",
      "-> fwhm is 423.867608 arcmin\n",
      "Sigma is 0.000000 arcmin (0.000000 rad) \n",
      "-> fwhm is 0.000000 arcmin\n"
     ]
    },
    {
     "name": "stderr",
     "output_type": "stream",
     "text": [
      " 42%|████▏     | 21/50 [04:15<05:50, 12.10s/it]"
     ]
    },
    {
     "name": "stdout",
     "output_type": "stream",
     "text": [
      "Sigma is 30.000000 arcmin (0.008727 rad) \n",
      "-> fwhm is 70.644601 arcmin\n",
      "Sigma is 0.000000 arcmin (0.000000 rad) \n",
      "-> fwhm is 0.000000 arcmin\n",
      "Sigma is 60.000000 arcmin (0.017453 rad) \n",
      "-> fwhm is 141.289203 arcmin\n",
      "Sigma is 0.000000 arcmin (0.000000 rad) \n",
      "-> fwhm is 0.000000 arcmin\n",
      "Sigma is 180.000000 arcmin (0.052360 rad) \n",
      "-> fwhm is 423.867608 arcmin\n",
      "Sigma is 0.000000 arcmin (0.000000 rad) \n",
      "-> fwhm is 0.000000 arcmin\n",
      "Sigma is 30.000000 arcmin (0.008727 rad) \n",
      "-> fwhm is 70.644601 arcmin\n",
      "Sigma is 0.000000 arcmin (0.000000 rad) \n",
      "-> fwhm is 0.000000 arcmin\n",
      "Sigma is 60.000000 arcmin (0.017453 rad) \n",
      "-> fwhm is 141.289203 arcmin\n",
      "Sigma is 0.000000 arcmin (0.000000 rad) \n",
      "-> fwhm is 0.000000 arcmin\n",
      "Sigma is 180.000000 arcmin (0.052360 rad) \n",
      "-> fwhm is 423.867608 arcmin\n",
      "Sigma is 0.000000 arcmin (0.000000 rad) \n",
      "-> fwhm is 0.000000 arcmin\n",
      "Sigma is 30.000000 arcmin (0.008727 rad) \n",
      "-> fwhm is 70.644601 arcmin\n",
      "Sigma is 0.000000 arcmin (0.000000 rad) \n",
      "-> fwhm is 0.000000 arcmin\n",
      "Sigma is 60.000000 arcmin (0.017453 rad) \n",
      "-> fwhm is 141.289203 arcmin\n",
      "Sigma is 0.000000 arcmin (0.000000 rad) \n",
      "-> fwhm is 0.000000 arcmin\n",
      "Sigma is 180.000000 arcmin (0.052360 rad) \n",
      "-> fwhm is 423.867608 arcmin\n",
      "Sigma is 0.000000 arcmin (0.000000 rad) \n",
      "-> fwhm is 0.000000 arcmin\n"
     ]
    },
    {
     "name": "stderr",
     "output_type": "stream",
     "text": [
      " 44%|████▍     | 22/50 [04:27<05:38, 12.10s/it]"
     ]
    },
    {
     "name": "stdout",
     "output_type": "stream",
     "text": [
      "Sigma is 30.000000 arcmin (0.008727 rad) \n",
      "-> fwhm is 70.644601 arcmin\n",
      "Sigma is 0.000000 arcmin (0.000000 rad) \n",
      "-> fwhm is 0.000000 arcmin\n",
      "Sigma is 60.000000 arcmin (0.017453 rad) \n",
      "-> fwhm is 141.289203 arcmin\n",
      "Sigma is 0.000000 arcmin (0.000000 rad) \n",
      "-> fwhm is 0.000000 arcmin\n",
      "Sigma is 180.000000 arcmin (0.052360 rad) \n",
      "-> fwhm is 423.867608 arcmin\n",
      "Sigma is 0.000000 arcmin (0.000000 rad) \n",
      "-> fwhm is 0.000000 arcmin\n",
      "Sigma is 30.000000 arcmin (0.008727 rad) \n",
      "-> fwhm is 70.644601 arcmin\n",
      "Sigma is 0.000000 arcmin (0.000000 rad) \n",
      "-> fwhm is 0.000000 arcmin\n",
      "Sigma is 60.000000 arcmin (0.017453 rad) \n",
      "-> fwhm is 141.289203 arcmin\n",
      "Sigma is 0.000000 arcmin (0.000000 rad) \n",
      "-> fwhm is 0.000000 arcmin\n",
      "Sigma is 180.000000 arcmin (0.052360 rad) \n",
      "-> fwhm is 423.867608 arcmin\n",
      "Sigma is 0.000000 arcmin (0.000000 rad) \n",
      "-> fwhm is 0.000000 arcmin\n",
      "Sigma is 30.000000 arcmin (0.008727 rad) \n",
      "-> fwhm is 70.644601 arcmin\n",
      "Sigma is 0.000000 arcmin (0.000000 rad) \n",
      "-> fwhm is 0.000000 arcmin\n",
      "Sigma is 60.000000 arcmin (0.017453 rad) \n",
      "-> fwhm is 141.289203 arcmin\n",
      "Sigma is 0.000000 arcmin (0.000000 rad) \n",
      "-> fwhm is 0.000000 arcmin\n",
      "Sigma is 180.000000 arcmin (0.052360 rad) \n",
      "-> fwhm is 423.867608 arcmin\n",
      "Sigma is 0.000000 arcmin (0.000000 rad) \n",
      "-> fwhm is 0.000000 arcmin\n"
     ]
    },
    {
     "name": "stderr",
     "output_type": "stream",
     "text": [
      " 46%|████▌     | 23/50 [04:39<05:26, 12.10s/it]"
     ]
    },
    {
     "name": "stdout",
     "output_type": "stream",
     "text": [
      "Sigma is 30.000000 arcmin (0.008727 rad) \n",
      "-> fwhm is 70.644601 arcmin\n",
      "Sigma is 0.000000 arcmin (0.000000 rad) \n",
      "-> fwhm is 0.000000 arcmin\n",
      "Sigma is 60.000000 arcmin (0.017453 rad) \n",
      "-> fwhm is 141.289203 arcmin\n",
      "Sigma is 0.000000 arcmin (0.000000 rad) \n",
      "-> fwhm is 0.000000 arcmin\n",
      "Sigma is 180.000000 arcmin (0.052360 rad) \n",
      "-> fwhm is 423.867608 arcmin\n",
      "Sigma is 0.000000 arcmin (0.000000 rad) \n",
      "-> fwhm is 0.000000 arcmin\n",
      "Sigma is 30.000000 arcmin (0.008727 rad) \n",
      "-> fwhm is 70.644601 arcmin\n",
      "Sigma is 0.000000 arcmin (0.000000 rad) \n",
      "-> fwhm is 0.000000 arcmin\n",
      "Sigma is 60.000000 arcmin (0.017453 rad) \n",
      "-> fwhm is 141.289203 arcmin\n",
      "Sigma is 0.000000 arcmin (0.000000 rad) \n",
      "-> fwhm is 0.000000 arcmin\n",
      "Sigma is 180.000000 arcmin (0.052360 rad) \n",
      "-> fwhm is 423.867608 arcmin\n",
      "Sigma is 0.000000 arcmin (0.000000 rad) \n",
      "-> fwhm is 0.000000 arcmin\n",
      "Sigma is 30.000000 arcmin (0.008727 rad) \n",
      "-> fwhm is 70.644601 arcmin\n",
      "Sigma is 0.000000 arcmin (0.000000 rad) \n",
      "-> fwhm is 0.000000 arcmin\n",
      "Sigma is 60.000000 arcmin (0.017453 rad) \n",
      "-> fwhm is 141.289203 arcmin\n",
      "Sigma is 0.000000 arcmin (0.000000 rad) \n",
      "-> fwhm is 0.000000 arcmin\n",
      "Sigma is 180.000000 arcmin (0.052360 rad) \n",
      "-> fwhm is 423.867608 arcmin\n",
      "Sigma is 0.000000 arcmin (0.000000 rad) \n",
      "-> fwhm is 0.000000 arcmin\n"
     ]
    },
    {
     "name": "stderr",
     "output_type": "stream",
     "text": [
      " 48%|████▊     | 24/50 [04:51<05:14, 12.09s/it]"
     ]
    },
    {
     "name": "stdout",
     "output_type": "stream",
     "text": [
      "Sigma is 30.000000 arcmin (0.008727 rad) \n",
      "-> fwhm is 70.644601 arcmin\n",
      "Sigma is 0.000000 arcmin (0.000000 rad) \n",
      "-> fwhm is 0.000000 arcmin\n",
      "Sigma is 60.000000 arcmin (0.017453 rad) \n",
      "-> fwhm is 141.289203 arcmin\n",
      "Sigma is 0.000000 arcmin (0.000000 rad) \n",
      "-> fwhm is 0.000000 arcmin\n",
      "Sigma is 180.000000 arcmin (0.052360 rad) \n",
      "-> fwhm is 423.867608 arcmin\n",
      "Sigma is 0.000000 arcmin (0.000000 rad) \n",
      "-> fwhm is 0.000000 arcmin\n",
      "Sigma is 30.000000 arcmin (0.008727 rad) \n",
      "-> fwhm is 70.644601 arcmin\n",
      "Sigma is 0.000000 arcmin (0.000000 rad) \n",
      "-> fwhm is 0.000000 arcmin\n",
      "Sigma is 60.000000 arcmin (0.017453 rad) \n",
      "-> fwhm is 141.289203 arcmin\n",
      "Sigma is 0.000000 arcmin (0.000000 rad) \n",
      "-> fwhm is 0.000000 arcmin\n",
      "Sigma is 180.000000 arcmin (0.052360 rad) \n",
      "-> fwhm is 423.867608 arcmin\n",
      "Sigma is 0.000000 arcmin (0.000000 rad) \n",
      "-> fwhm is 0.000000 arcmin\n",
      "Sigma is 30.000000 arcmin (0.008727 rad) \n",
      "-> fwhm is 70.644601 arcmin\n",
      "Sigma is 0.000000 arcmin (0.000000 rad) \n",
      "-> fwhm is 0.000000 arcmin\n",
      "Sigma is 60.000000 arcmin (0.017453 rad) \n",
      "-> fwhm is 141.289203 arcmin\n",
      "Sigma is 0.000000 arcmin (0.000000 rad) \n",
      "-> fwhm is 0.000000 arcmin\n",
      "Sigma is 180.000000 arcmin (0.052360 rad) \n",
      "-> fwhm is 423.867608 arcmin\n",
      "Sigma is 0.000000 arcmin (0.000000 rad) \n",
      "-> fwhm is 0.000000 arcmin\n"
     ]
    },
    {
     "name": "stderr",
     "output_type": "stream",
     "text": [
      " 50%|█████     | 25/50 [05:03<05:05, 12.21s/it]"
     ]
    },
    {
     "name": "stdout",
     "output_type": "stream",
     "text": [
      "Sigma is 30.000000 arcmin (0.008727 rad) \n",
      "-> fwhm is 70.644601 arcmin\n",
      "Sigma is 0.000000 arcmin (0.000000 rad) \n",
      "-> fwhm is 0.000000 arcmin\n",
      "Sigma is 60.000000 arcmin (0.017453 rad) \n",
      "-> fwhm is 141.289203 arcmin\n",
      "Sigma is 0.000000 arcmin (0.000000 rad) \n",
      "-> fwhm is 0.000000 arcmin\n",
      "Sigma is 180.000000 arcmin (0.052360 rad) \n",
      "-> fwhm is 423.867608 arcmin\n",
      "Sigma is 0.000000 arcmin (0.000000 rad) \n",
      "-> fwhm is 0.000000 arcmin\n",
      "Sigma is 30.000000 arcmin (0.008727 rad) \n",
      "-> fwhm is 70.644601 arcmin\n",
      "Sigma is 0.000000 arcmin (0.000000 rad) \n",
      "-> fwhm is 0.000000 arcmin\n",
      "Sigma is 60.000000 arcmin (0.017453 rad) \n",
      "-> fwhm is 141.289203 arcmin\n",
      "Sigma is 0.000000 arcmin (0.000000 rad) \n",
      "-> fwhm is 0.000000 arcmin\n",
      "Sigma is 180.000000 arcmin (0.052360 rad) \n",
      "-> fwhm is 423.867608 arcmin\n",
      "Sigma is 0.000000 arcmin (0.000000 rad) \n",
      "-> fwhm is 0.000000 arcmin\n",
      "Sigma is 30.000000 arcmin (0.008727 rad) \n",
      "-> fwhm is 70.644601 arcmin\n",
      "Sigma is 0.000000 arcmin (0.000000 rad) \n",
      "-> fwhm is 0.000000 arcmin\n",
      "Sigma is 60.000000 arcmin (0.017453 rad) \n",
      "-> fwhm is 141.289203 arcmin\n",
      "Sigma is 0.000000 arcmin (0.000000 rad) \n",
      "-> fwhm is 0.000000 arcmin\n",
      "Sigma is 180.000000 arcmin (0.052360 rad) \n",
      "-> fwhm is 423.867608 arcmin\n",
      "Sigma is 0.000000 arcmin (0.000000 rad) \n",
      "-> fwhm is 0.000000 arcmin\n"
     ]
    },
    {
     "name": "stderr",
     "output_type": "stream",
     "text": [
      " 52%|█████▏    | 26/50 [05:16<04:55, 12.30s/it]"
     ]
    },
    {
     "name": "stdout",
     "output_type": "stream",
     "text": [
      "Sigma is 30.000000 arcmin (0.008727 rad) \n",
      "-> fwhm is 70.644601 arcmin\n",
      "Sigma is 0.000000 arcmin (0.000000 rad) \n",
      "-> fwhm is 0.000000 arcmin\n",
      "Sigma is 60.000000 arcmin (0.017453 rad) \n",
      "-> fwhm is 141.289203 arcmin\n",
      "Sigma is 0.000000 arcmin (0.000000 rad) \n",
      "-> fwhm is 0.000000 arcmin\n",
      "Sigma is 180.000000 arcmin (0.052360 rad) \n",
      "-> fwhm is 423.867608 arcmin\n",
      "Sigma is 0.000000 arcmin (0.000000 rad) \n",
      "-> fwhm is 0.000000 arcmin\n",
      "Sigma is 30.000000 arcmin (0.008727 rad) \n",
      "-> fwhm is 70.644601 arcmin\n",
      "Sigma is 0.000000 arcmin (0.000000 rad) \n",
      "-> fwhm is 0.000000 arcmin\n",
      "Sigma is 60.000000 arcmin (0.017453 rad) \n",
      "-> fwhm is 141.289203 arcmin\n",
      "Sigma is 0.000000 arcmin (0.000000 rad) \n",
      "-> fwhm is 0.000000 arcmin\n",
      "Sigma is 180.000000 arcmin (0.052360 rad) \n",
      "-> fwhm is 423.867608 arcmin\n",
      "Sigma is 0.000000 arcmin (0.000000 rad) \n",
      "-> fwhm is 0.000000 arcmin\n",
      "Sigma is 30.000000 arcmin (0.008727 rad) \n",
      "-> fwhm is 70.644601 arcmin\n",
      "Sigma is 0.000000 arcmin (0.000000 rad) \n",
      "-> fwhm is 0.000000 arcmin\n",
      "Sigma is 60.000000 arcmin (0.017453 rad) \n",
      "-> fwhm is 141.289203 arcmin\n",
      "Sigma is 0.000000 arcmin (0.000000 rad) \n",
      "-> fwhm is 0.000000 arcmin\n",
      "Sigma is 180.000000 arcmin (0.052360 rad) \n",
      "-> fwhm is 423.867608 arcmin\n",
      "Sigma is 0.000000 arcmin (0.000000 rad) \n",
      "-> fwhm is 0.000000 arcmin\n"
     ]
    },
    {
     "name": "stderr",
     "output_type": "stream",
     "text": [
      " 54%|█████▍    | 27/50 [05:28<04:44, 12.36s/it]"
     ]
    },
    {
     "name": "stdout",
     "output_type": "stream",
     "text": [
      "Sigma is 30.000000 arcmin (0.008727 rad) \n",
      "-> fwhm is 70.644601 arcmin\n",
      "Sigma is 0.000000 arcmin (0.000000 rad) \n",
      "-> fwhm is 0.000000 arcmin\n",
      "Sigma is 60.000000 arcmin (0.017453 rad) \n",
      "-> fwhm is 141.289203 arcmin\n",
      "Sigma is 0.000000 arcmin (0.000000 rad) \n",
      "-> fwhm is 0.000000 arcmin\n",
      "Sigma is 180.000000 arcmin (0.052360 rad) \n",
      "-> fwhm is 423.867608 arcmin\n",
      "Sigma is 0.000000 arcmin (0.000000 rad) \n",
      "-> fwhm is 0.000000 arcmin\n",
      "Sigma is 30.000000 arcmin (0.008727 rad) \n",
      "-> fwhm is 70.644601 arcmin\n",
      "Sigma is 0.000000 arcmin (0.000000 rad) \n",
      "-> fwhm is 0.000000 arcmin\n",
      "Sigma is 60.000000 arcmin (0.017453 rad) \n",
      "-> fwhm is 141.289203 arcmin\n",
      "Sigma is 0.000000 arcmin (0.000000 rad) \n",
      "-> fwhm is 0.000000 arcmin\n",
      "Sigma is 180.000000 arcmin (0.052360 rad) \n",
      "-> fwhm is 423.867608 arcmin\n",
      "Sigma is 0.000000 arcmin (0.000000 rad) \n",
      "-> fwhm is 0.000000 arcmin\n",
      "Sigma is 30.000000 arcmin (0.008727 rad) \n",
      "-> fwhm is 70.644601 arcmin\n",
      "Sigma is 0.000000 arcmin (0.000000 rad) \n",
      "-> fwhm is 0.000000 arcmin\n",
      "Sigma is 60.000000 arcmin (0.017453 rad) \n",
      "-> fwhm is 141.289203 arcmin\n",
      "Sigma is 0.000000 arcmin (0.000000 rad) \n",
      "-> fwhm is 0.000000 arcmin\n",
      "Sigma is 180.000000 arcmin (0.052360 rad) \n",
      "-> fwhm is 423.867608 arcmin\n",
      "Sigma is 0.000000 arcmin (0.000000 rad) \n",
      "-> fwhm is 0.000000 arcmin\n"
     ]
    },
    {
     "name": "stderr",
     "output_type": "stream",
     "text": [
      " 56%|█████▌    | 28/50 [05:41<04:32, 12.40s/it]"
     ]
    },
    {
     "name": "stdout",
     "output_type": "stream",
     "text": [
      "Sigma is 30.000000 arcmin (0.008727 rad) \n",
      "-> fwhm is 70.644601 arcmin\n",
      "Sigma is 0.000000 arcmin (0.000000 rad) \n",
      "-> fwhm is 0.000000 arcmin\n",
      "Sigma is 60.000000 arcmin (0.017453 rad) \n",
      "-> fwhm is 141.289203 arcmin\n",
      "Sigma is 0.000000 arcmin (0.000000 rad) \n",
      "-> fwhm is 0.000000 arcmin\n",
      "Sigma is 180.000000 arcmin (0.052360 rad) \n",
      "-> fwhm is 423.867608 arcmin\n",
      "Sigma is 0.000000 arcmin (0.000000 rad) \n",
      "-> fwhm is 0.000000 arcmin\n",
      "Sigma is 30.000000 arcmin (0.008727 rad) \n",
      "-> fwhm is 70.644601 arcmin\n",
      "Sigma is 0.000000 arcmin (0.000000 rad) \n",
      "-> fwhm is 0.000000 arcmin\n",
      "Sigma is 60.000000 arcmin (0.017453 rad) \n",
      "-> fwhm is 141.289203 arcmin\n",
      "Sigma is 0.000000 arcmin (0.000000 rad) \n",
      "-> fwhm is 0.000000 arcmin\n",
      "Sigma is 180.000000 arcmin (0.052360 rad) \n",
      "-> fwhm is 423.867608 arcmin\n",
      "Sigma is 0.000000 arcmin (0.000000 rad) \n",
      "-> fwhm is 0.000000 arcmin\n",
      "Sigma is 30.000000 arcmin (0.008727 rad) \n",
      "-> fwhm is 70.644601 arcmin\n",
      "Sigma is 0.000000 arcmin (0.000000 rad) \n",
      "-> fwhm is 0.000000 arcmin\n",
      "Sigma is 60.000000 arcmin (0.017453 rad) \n",
      "-> fwhm is 141.289203 arcmin\n",
      "Sigma is 0.000000 arcmin (0.000000 rad) \n",
      "-> fwhm is 0.000000 arcmin\n",
      "Sigma is 180.000000 arcmin (0.052360 rad) \n",
      "-> fwhm is 423.867608 arcmin\n",
      "Sigma is 0.000000 arcmin (0.000000 rad) \n",
      "-> fwhm is 0.000000 arcmin\n"
     ]
    },
    {
     "name": "stderr",
     "output_type": "stream",
     "text": [
      " 58%|█████▊    | 29/50 [05:53<04:21, 12.44s/it]"
     ]
    },
    {
     "name": "stdout",
     "output_type": "stream",
     "text": [
      "Sigma is 30.000000 arcmin (0.008727 rad) \n",
      "-> fwhm is 70.644601 arcmin\n",
      "Sigma is 0.000000 arcmin (0.000000 rad) \n",
      "-> fwhm is 0.000000 arcmin\n",
      "Sigma is 60.000000 arcmin (0.017453 rad) \n",
      "-> fwhm is 141.289203 arcmin\n",
      "Sigma is 0.000000 arcmin (0.000000 rad) \n",
      "-> fwhm is 0.000000 arcmin\n",
      "Sigma is 180.000000 arcmin (0.052360 rad) \n",
      "-> fwhm is 423.867608 arcmin\n",
      "Sigma is 0.000000 arcmin (0.000000 rad) \n",
      "-> fwhm is 0.000000 arcmin\n",
      "Sigma is 30.000000 arcmin (0.008727 rad) \n",
      "-> fwhm is 70.644601 arcmin\n",
      "Sigma is 0.000000 arcmin (0.000000 rad) \n",
      "-> fwhm is 0.000000 arcmin\n",
      "Sigma is 60.000000 arcmin (0.017453 rad) \n",
      "-> fwhm is 141.289203 arcmin\n",
      "Sigma is 0.000000 arcmin (0.000000 rad) \n",
      "-> fwhm is 0.000000 arcmin\n",
      "Sigma is 180.000000 arcmin (0.052360 rad) \n",
      "-> fwhm is 423.867608 arcmin\n",
      "Sigma is 0.000000 arcmin (0.000000 rad) \n",
      "-> fwhm is 0.000000 arcmin\n",
      "Sigma is 30.000000 arcmin (0.008727 rad) \n",
      "-> fwhm is 70.644601 arcmin\n",
      "Sigma is 0.000000 arcmin (0.000000 rad) \n",
      "-> fwhm is 0.000000 arcmin\n",
      "Sigma is 60.000000 arcmin (0.017453 rad) \n",
      "-> fwhm is 141.289203 arcmin\n",
      "Sigma is 0.000000 arcmin (0.000000 rad) \n",
      "-> fwhm is 0.000000 arcmin\n",
      "Sigma is 180.000000 arcmin (0.052360 rad) \n",
      "-> fwhm is 423.867608 arcmin\n",
      "Sigma is 0.000000 arcmin (0.000000 rad) \n",
      "-> fwhm is 0.000000 arcmin\n"
     ]
    },
    {
     "name": "stderr",
     "output_type": "stream",
     "text": [
      " 60%|██████    | 30/50 [06:05<04:04, 12.23s/it]"
     ]
    },
    {
     "name": "stdout",
     "output_type": "stream",
     "text": [
      "Sigma is 30.000000 arcmin (0.008727 rad) \n",
      "-> fwhm is 70.644601 arcmin\n",
      "Sigma is 0.000000 arcmin (0.000000 rad) \n",
      "-> fwhm is 0.000000 arcmin\n",
      "Sigma is 60.000000 arcmin (0.017453 rad) \n",
      "-> fwhm is 141.289203 arcmin\n",
      "Sigma is 0.000000 arcmin (0.000000 rad) \n",
      "-> fwhm is 0.000000 arcmin\n",
      "Sigma is 180.000000 arcmin (0.052360 rad) \n",
      "-> fwhm is 423.867608 arcmin\n",
      "Sigma is 0.000000 arcmin (0.000000 rad) \n",
      "-> fwhm is 0.000000 arcmin\n",
      "Sigma is 30.000000 arcmin (0.008727 rad) \n",
      "-> fwhm is 70.644601 arcmin\n",
      "Sigma is 0.000000 arcmin (0.000000 rad) \n",
      "-> fwhm is 0.000000 arcmin\n",
      "Sigma is 60.000000 arcmin (0.017453 rad) \n",
      "-> fwhm is 141.289203 arcmin\n",
      "Sigma is 0.000000 arcmin (0.000000 rad) \n",
      "-> fwhm is 0.000000 arcmin\n",
      "Sigma is 180.000000 arcmin (0.052360 rad) \n",
      "-> fwhm is 423.867608 arcmin\n",
      "Sigma is 0.000000 arcmin (0.000000 rad) \n",
      "-> fwhm is 0.000000 arcmin\n",
      "Sigma is 30.000000 arcmin (0.008727 rad) \n",
      "-> fwhm is 70.644601 arcmin\n",
      "Sigma is 0.000000 arcmin (0.000000 rad) \n",
      "-> fwhm is 0.000000 arcmin\n",
      "Sigma is 60.000000 arcmin (0.017453 rad) \n",
      "-> fwhm is 141.289203 arcmin\n",
      "Sigma is 0.000000 arcmin (0.000000 rad) \n",
      "-> fwhm is 0.000000 arcmin\n",
      "Sigma is 180.000000 arcmin (0.052360 rad) \n",
      "-> fwhm is 423.867608 arcmin\n",
      "Sigma is 0.000000 arcmin (0.000000 rad) \n",
      "-> fwhm is 0.000000 arcmin\n"
     ]
    },
    {
     "name": "stderr",
     "output_type": "stream",
     "text": [
      " 62%|██████▏   | 31/50 [06:17<03:50, 12.13s/it]"
     ]
    },
    {
     "name": "stdout",
     "output_type": "stream",
     "text": [
      "Sigma is 30.000000 arcmin (0.008727 rad) \n",
      "-> fwhm is 70.644601 arcmin\n",
      "Sigma is 0.000000 arcmin (0.000000 rad) \n",
      "-> fwhm is 0.000000 arcmin\n",
      "Sigma is 60.000000 arcmin (0.017453 rad) \n",
      "-> fwhm is 141.289203 arcmin\n",
      "Sigma is 0.000000 arcmin (0.000000 rad) \n",
      "-> fwhm is 0.000000 arcmin\n",
      "Sigma is 180.000000 arcmin (0.052360 rad) \n",
      "-> fwhm is 423.867608 arcmin\n",
      "Sigma is 0.000000 arcmin (0.000000 rad) \n",
      "-> fwhm is 0.000000 arcmin\n",
      "Sigma is 30.000000 arcmin (0.008727 rad) \n",
      "-> fwhm is 70.644601 arcmin\n",
      "Sigma is 0.000000 arcmin (0.000000 rad) \n",
      "-> fwhm is 0.000000 arcmin\n",
      "Sigma is 60.000000 arcmin (0.017453 rad) \n",
      "-> fwhm is 141.289203 arcmin\n",
      "Sigma is 0.000000 arcmin (0.000000 rad) \n",
      "-> fwhm is 0.000000 arcmin\n",
      "Sigma is 180.000000 arcmin (0.052360 rad) \n",
      "-> fwhm is 423.867608 arcmin\n",
      "Sigma is 0.000000 arcmin (0.000000 rad) \n",
      "-> fwhm is 0.000000 arcmin\n",
      "Sigma is 30.000000 arcmin (0.008727 rad) \n",
      "-> fwhm is 70.644601 arcmin\n",
      "Sigma is 0.000000 arcmin (0.000000 rad) \n",
      "-> fwhm is 0.000000 arcmin\n",
      "Sigma is 60.000000 arcmin (0.017453 rad) \n",
      "-> fwhm is 141.289203 arcmin\n",
      "Sigma is 0.000000 arcmin (0.000000 rad) \n",
      "-> fwhm is 0.000000 arcmin\n",
      "Sigma is 180.000000 arcmin (0.052360 rad) \n",
      "-> fwhm is 423.867608 arcmin\n",
      "Sigma is 0.000000 arcmin (0.000000 rad) \n",
      "-> fwhm is 0.000000 arcmin\n"
     ]
    },
    {
     "name": "stderr",
     "output_type": "stream",
     "text": [
      " 64%|██████▍   | 32/50 [06:29<03:36, 12.04s/it]"
     ]
    },
    {
     "name": "stdout",
     "output_type": "stream",
     "text": [
      "Sigma is 30.000000 arcmin (0.008727 rad) \n",
      "-> fwhm is 70.644601 arcmin\n",
      "Sigma is 0.000000 arcmin (0.000000 rad) \n",
      "-> fwhm is 0.000000 arcmin\n",
      "Sigma is 60.000000 arcmin (0.017453 rad) \n",
      "-> fwhm is 141.289203 arcmin\n",
      "Sigma is 0.000000 arcmin (0.000000 rad) \n",
      "-> fwhm is 0.000000 arcmin\n",
      "Sigma is 180.000000 arcmin (0.052360 rad) \n",
      "-> fwhm is 423.867608 arcmin\n",
      "Sigma is 0.000000 arcmin (0.000000 rad) \n",
      "-> fwhm is 0.000000 arcmin\n",
      "Sigma is 30.000000 arcmin (0.008727 rad) \n",
      "-> fwhm is 70.644601 arcmin\n",
      "Sigma is 0.000000 arcmin (0.000000 rad) \n",
      "-> fwhm is 0.000000 arcmin\n",
      "Sigma is 60.000000 arcmin (0.017453 rad) \n",
      "-> fwhm is 141.289203 arcmin\n",
      "Sigma is 0.000000 arcmin (0.000000 rad) \n",
      "-> fwhm is 0.000000 arcmin\n",
      "Sigma is 180.000000 arcmin (0.052360 rad) \n",
      "-> fwhm is 423.867608 arcmin\n",
      "Sigma is 0.000000 arcmin (0.000000 rad) \n",
      "-> fwhm is 0.000000 arcmin\n",
      "Sigma is 30.000000 arcmin (0.008727 rad) \n",
      "-> fwhm is 70.644601 arcmin\n",
      "Sigma is 0.000000 arcmin (0.000000 rad) \n",
      "-> fwhm is 0.000000 arcmin\n",
      "Sigma is 60.000000 arcmin (0.017453 rad) \n",
      "-> fwhm is 141.289203 arcmin\n",
      "Sigma is 0.000000 arcmin (0.000000 rad) \n",
      "-> fwhm is 0.000000 arcmin\n",
      "Sigma is 180.000000 arcmin (0.052360 rad) \n",
      "-> fwhm is 423.867608 arcmin\n",
      "Sigma is 0.000000 arcmin (0.000000 rad) \n",
      "-> fwhm is 0.000000 arcmin\n"
     ]
    },
    {
     "name": "stderr",
     "output_type": "stream",
     "text": [
      " 66%|██████▌   | 33/50 [06:41<03:26, 12.14s/it]"
     ]
    },
    {
     "name": "stdout",
     "output_type": "stream",
     "text": [
      "Sigma is 30.000000 arcmin (0.008727 rad) \n",
      "-> fwhm is 70.644601 arcmin\n",
      "Sigma is 0.000000 arcmin (0.000000 rad) \n",
      "-> fwhm is 0.000000 arcmin\n",
      "Sigma is 60.000000 arcmin (0.017453 rad) \n",
      "-> fwhm is 141.289203 arcmin\n",
      "Sigma is 0.000000 arcmin (0.000000 rad) \n",
      "-> fwhm is 0.000000 arcmin\n",
      "Sigma is 180.000000 arcmin (0.052360 rad) \n",
      "-> fwhm is 423.867608 arcmin\n",
      "Sigma is 0.000000 arcmin (0.000000 rad) \n",
      "-> fwhm is 0.000000 arcmin\n",
      "Sigma is 30.000000 arcmin (0.008727 rad) \n",
      "-> fwhm is 70.644601 arcmin\n",
      "Sigma is 0.000000 arcmin (0.000000 rad) \n",
      "-> fwhm is 0.000000 arcmin\n",
      "Sigma is 60.000000 arcmin (0.017453 rad) \n",
      "-> fwhm is 141.289203 arcmin\n",
      "Sigma is 0.000000 arcmin (0.000000 rad) \n",
      "-> fwhm is 0.000000 arcmin\n",
      "Sigma is 180.000000 arcmin (0.052360 rad) \n",
      "-> fwhm is 423.867608 arcmin\n",
      "Sigma is 0.000000 arcmin (0.000000 rad) \n",
      "-> fwhm is 0.000000 arcmin\n",
      "Sigma is 30.000000 arcmin (0.008727 rad) \n",
      "-> fwhm is 70.644601 arcmin\n",
      "Sigma is 0.000000 arcmin (0.000000 rad) \n",
      "-> fwhm is 0.000000 arcmin\n",
      "Sigma is 60.000000 arcmin (0.017453 rad) \n",
      "-> fwhm is 141.289203 arcmin\n",
      "Sigma is 0.000000 arcmin (0.000000 rad) \n",
      "-> fwhm is 0.000000 arcmin\n",
      "Sigma is 180.000000 arcmin (0.052360 rad) \n",
      "-> fwhm is 423.867608 arcmin\n",
      "Sigma is 0.000000 arcmin (0.000000 rad) \n",
      "-> fwhm is 0.000000 arcmin\n"
     ]
    },
    {
     "name": "stderr",
     "output_type": "stream",
     "text": [
      " 68%|██████▊   | 34/50 [06:53<03:10, 11.93s/it]"
     ]
    },
    {
     "name": "stdout",
     "output_type": "stream",
     "text": [
      "Sigma is 30.000000 arcmin (0.008727 rad) \n",
      "-> fwhm is 70.644601 arcmin\n",
      "Sigma is 0.000000 arcmin (0.000000 rad) \n",
      "-> fwhm is 0.000000 arcmin\n",
      "Sigma is 60.000000 arcmin (0.017453 rad) \n",
      "-> fwhm is 141.289203 arcmin\n",
      "Sigma is 0.000000 arcmin (0.000000 rad) \n",
      "-> fwhm is 0.000000 arcmin\n",
      "Sigma is 180.000000 arcmin (0.052360 rad) \n",
      "-> fwhm is 423.867608 arcmin\n",
      "Sigma is 0.000000 arcmin (0.000000 rad) \n",
      "-> fwhm is 0.000000 arcmin\n",
      "Sigma is 30.000000 arcmin (0.008727 rad) \n",
      "-> fwhm is 70.644601 arcmin\n",
      "Sigma is 0.000000 arcmin (0.000000 rad) \n",
      "-> fwhm is 0.000000 arcmin\n",
      "Sigma is 60.000000 arcmin (0.017453 rad) \n",
      "-> fwhm is 141.289203 arcmin\n",
      "Sigma is 0.000000 arcmin (0.000000 rad) \n",
      "-> fwhm is 0.000000 arcmin\n",
      "Sigma is 180.000000 arcmin (0.052360 rad) \n",
      "-> fwhm is 423.867608 arcmin\n",
      "Sigma is 0.000000 arcmin (0.000000 rad) \n",
      "-> fwhm is 0.000000 arcmin\n",
      "Sigma is 30.000000 arcmin (0.008727 rad) \n",
      "-> fwhm is 70.644601 arcmin\n",
      "Sigma is 0.000000 arcmin (0.000000 rad) \n",
      "-> fwhm is 0.000000 arcmin\n",
      "Sigma is 60.000000 arcmin (0.017453 rad) \n",
      "-> fwhm is 141.289203 arcmin\n",
      "Sigma is 0.000000 arcmin (0.000000 rad) \n",
      "-> fwhm is 0.000000 arcmin\n",
      "Sigma is 180.000000 arcmin (0.052360 rad) \n",
      "-> fwhm is 423.867608 arcmin\n",
      "Sigma is 0.000000 arcmin (0.000000 rad) \n",
      "-> fwhm is 0.000000 arcmin\n"
     ]
    },
    {
     "name": "stderr",
     "output_type": "stream",
     "text": [
      " 70%|███████   | 35/50 [07:05<02:58, 11.92s/it]"
     ]
    },
    {
     "name": "stdout",
     "output_type": "stream",
     "text": [
      "Sigma is 30.000000 arcmin (0.008727 rad) \n",
      "-> fwhm is 70.644601 arcmin\n",
      "Sigma is 0.000000 arcmin (0.000000 rad) \n",
      "-> fwhm is 0.000000 arcmin\n",
      "Sigma is 60.000000 arcmin (0.017453 rad) \n",
      "-> fwhm is 141.289203 arcmin\n",
      "Sigma is 0.000000 arcmin (0.000000 rad) \n",
      "-> fwhm is 0.000000 arcmin\n",
      "Sigma is 180.000000 arcmin (0.052360 rad) \n",
      "-> fwhm is 423.867608 arcmin\n",
      "Sigma is 0.000000 arcmin (0.000000 rad) \n",
      "-> fwhm is 0.000000 arcmin\n",
      "Sigma is 30.000000 arcmin (0.008727 rad) \n",
      "-> fwhm is 70.644601 arcmin\n",
      "Sigma is 0.000000 arcmin (0.000000 rad) \n",
      "-> fwhm is 0.000000 arcmin\n",
      "Sigma is 60.000000 arcmin (0.017453 rad) \n",
      "-> fwhm is 141.289203 arcmin\n",
      "Sigma is 0.000000 arcmin (0.000000 rad) \n",
      "-> fwhm is 0.000000 arcmin\n",
      "Sigma is 180.000000 arcmin (0.052360 rad) \n",
      "-> fwhm is 423.867608 arcmin\n",
      "Sigma is 0.000000 arcmin (0.000000 rad) \n",
      "-> fwhm is 0.000000 arcmin\n",
      "Sigma is 30.000000 arcmin (0.008727 rad) \n",
      "-> fwhm is 70.644601 arcmin\n",
      "Sigma is 0.000000 arcmin (0.000000 rad) \n",
      "-> fwhm is 0.000000 arcmin\n",
      "Sigma is 60.000000 arcmin (0.017453 rad) \n",
      "-> fwhm is 141.289203 arcmin\n",
      "Sigma is 0.000000 arcmin (0.000000 rad) \n",
      "-> fwhm is 0.000000 arcmin\n",
      "Sigma is 180.000000 arcmin (0.052360 rad) \n",
      "-> fwhm is 423.867608 arcmin\n",
      "Sigma is 0.000000 arcmin (0.000000 rad) \n",
      "-> fwhm is 0.000000 arcmin\n"
     ]
    },
    {
     "name": "stderr",
     "output_type": "stream",
     "text": [
      " 72%|███████▏  | 36/50 [07:17<02:48, 12.05s/it]"
     ]
    },
    {
     "name": "stdout",
     "output_type": "stream",
     "text": [
      "Sigma is 30.000000 arcmin (0.008727 rad) \n",
      "-> fwhm is 70.644601 arcmin\n",
      "Sigma is 0.000000 arcmin (0.000000 rad) \n",
      "-> fwhm is 0.000000 arcmin\n",
      "Sigma is 60.000000 arcmin (0.017453 rad) \n",
      "-> fwhm is 141.289203 arcmin\n",
      "Sigma is 0.000000 arcmin (0.000000 rad) \n",
      "-> fwhm is 0.000000 arcmin\n",
      "Sigma is 180.000000 arcmin (0.052360 rad) \n",
      "-> fwhm is 423.867608 arcmin\n",
      "Sigma is 0.000000 arcmin (0.000000 rad) \n",
      "-> fwhm is 0.000000 arcmin\n",
      "Sigma is 30.000000 arcmin (0.008727 rad) \n",
      "-> fwhm is 70.644601 arcmin\n",
      "Sigma is 0.000000 arcmin (0.000000 rad) \n",
      "-> fwhm is 0.000000 arcmin\n",
      "Sigma is 60.000000 arcmin (0.017453 rad) \n",
      "-> fwhm is 141.289203 arcmin\n",
      "Sigma is 0.000000 arcmin (0.000000 rad) \n",
      "-> fwhm is 0.000000 arcmin\n",
      "Sigma is 180.000000 arcmin (0.052360 rad) \n",
      "-> fwhm is 423.867608 arcmin\n",
      "Sigma is 0.000000 arcmin (0.000000 rad) \n",
      "-> fwhm is 0.000000 arcmin\n",
      "Sigma is 30.000000 arcmin (0.008727 rad) \n",
      "-> fwhm is 70.644601 arcmin\n",
      "Sigma is 0.000000 arcmin (0.000000 rad) \n",
      "-> fwhm is 0.000000 arcmin\n",
      "Sigma is 60.000000 arcmin (0.017453 rad) \n",
      "-> fwhm is 141.289203 arcmin\n",
      "Sigma is 0.000000 arcmin (0.000000 rad) \n",
      "-> fwhm is 0.000000 arcmin\n",
      "Sigma is 180.000000 arcmin (0.052360 rad) \n",
      "-> fwhm is 423.867608 arcmin\n",
      "Sigma is 0.000000 arcmin (0.000000 rad) \n",
      "-> fwhm is 0.000000 arcmin\n"
     ]
    },
    {
     "name": "stderr",
     "output_type": "stream",
     "text": [
      " 74%|███████▍  | 37/50 [07:29<02:36, 12.05s/it]"
     ]
    },
    {
     "name": "stdout",
     "output_type": "stream",
     "text": [
      "Sigma is 30.000000 arcmin (0.008727 rad) \n",
      "-> fwhm is 70.644601 arcmin\n",
      "Sigma is 0.000000 arcmin (0.000000 rad) \n",
      "-> fwhm is 0.000000 arcmin\n",
      "Sigma is 60.000000 arcmin (0.017453 rad) \n",
      "-> fwhm is 141.289203 arcmin\n",
      "Sigma is 0.000000 arcmin (0.000000 rad) \n",
      "-> fwhm is 0.000000 arcmin\n",
      "Sigma is 180.000000 arcmin (0.052360 rad) \n",
      "-> fwhm is 423.867608 arcmin\n",
      "Sigma is 0.000000 arcmin (0.000000 rad) \n",
      "-> fwhm is 0.000000 arcmin\n",
      "Sigma is 30.000000 arcmin (0.008727 rad) \n",
      "-> fwhm is 70.644601 arcmin\n",
      "Sigma is 0.000000 arcmin (0.000000 rad) \n",
      "-> fwhm is 0.000000 arcmin\n",
      "Sigma is 60.000000 arcmin (0.017453 rad) \n",
      "-> fwhm is 141.289203 arcmin\n",
      "Sigma is 0.000000 arcmin (0.000000 rad) \n",
      "-> fwhm is 0.000000 arcmin\n",
      "Sigma is 180.000000 arcmin (0.052360 rad) \n",
      "-> fwhm is 423.867608 arcmin\n",
      "Sigma is 0.000000 arcmin (0.000000 rad) \n",
      "-> fwhm is 0.000000 arcmin\n",
      "Sigma is 30.000000 arcmin (0.008727 rad) \n",
      "-> fwhm is 70.644601 arcmin\n",
      "Sigma is 0.000000 arcmin (0.000000 rad) \n",
      "-> fwhm is 0.000000 arcmin\n",
      "Sigma is 60.000000 arcmin (0.017453 rad) \n",
      "-> fwhm is 141.289203 arcmin\n",
      "Sigma is 0.000000 arcmin (0.000000 rad) \n",
      "-> fwhm is 0.000000 arcmin\n",
      "Sigma is 180.000000 arcmin (0.052360 rad) \n",
      "-> fwhm is 423.867608 arcmin\n",
      "Sigma is 0.000000 arcmin (0.000000 rad) \n",
      "-> fwhm is 0.000000 arcmin\n"
     ]
    },
    {
     "name": "stderr",
     "output_type": "stream",
     "text": [
      " 76%|███████▌  | 38/50 [07:41<02:24, 12.05s/it]"
     ]
    },
    {
     "name": "stdout",
     "output_type": "stream",
     "text": [
      "Sigma is 30.000000 arcmin (0.008727 rad) \n",
      "-> fwhm is 70.644601 arcmin\n",
      "Sigma is 0.000000 arcmin (0.000000 rad) \n",
      "-> fwhm is 0.000000 arcmin\n",
      "Sigma is 60.000000 arcmin (0.017453 rad) \n",
      "-> fwhm is 141.289203 arcmin\n",
      "Sigma is 0.000000 arcmin (0.000000 rad) \n",
      "-> fwhm is 0.000000 arcmin\n",
      "Sigma is 180.000000 arcmin (0.052360 rad) \n",
      "-> fwhm is 423.867608 arcmin\n",
      "Sigma is 0.000000 arcmin (0.000000 rad) \n",
      "-> fwhm is 0.000000 arcmin\n",
      "Sigma is 30.000000 arcmin (0.008727 rad) \n",
      "-> fwhm is 70.644601 arcmin\n",
      "Sigma is 0.000000 arcmin (0.000000 rad) \n",
      "-> fwhm is 0.000000 arcmin\n",
      "Sigma is 60.000000 arcmin (0.017453 rad) \n",
      "-> fwhm is 141.289203 arcmin\n",
      "Sigma is 0.000000 arcmin (0.000000 rad) \n",
      "-> fwhm is 0.000000 arcmin\n",
      "Sigma is 180.000000 arcmin (0.052360 rad) \n",
      "-> fwhm is 423.867608 arcmin\n",
      "Sigma is 0.000000 arcmin (0.000000 rad) \n",
      "-> fwhm is 0.000000 arcmin\n",
      "Sigma is 30.000000 arcmin (0.008727 rad) \n",
      "-> fwhm is 70.644601 arcmin\n",
      "Sigma is 0.000000 arcmin (0.000000 rad) \n",
      "-> fwhm is 0.000000 arcmin\n",
      "Sigma is 60.000000 arcmin (0.017453 rad) \n",
      "-> fwhm is 141.289203 arcmin\n",
      "Sigma is 0.000000 arcmin (0.000000 rad) \n",
      "-> fwhm is 0.000000 arcmin\n",
      "Sigma is 180.000000 arcmin (0.052360 rad) \n",
      "-> fwhm is 423.867608 arcmin\n",
      "Sigma is 0.000000 arcmin (0.000000 rad) \n",
      "-> fwhm is 0.000000 arcmin\n"
     ]
    },
    {
     "name": "stderr",
     "output_type": "stream",
     "text": [
      " 78%|███████▊  | 39/50 [07:53<02:12, 12.03s/it]"
     ]
    },
    {
     "name": "stdout",
     "output_type": "stream",
     "text": [
      "Sigma is 30.000000 arcmin (0.008727 rad) \n",
      "-> fwhm is 70.644601 arcmin\n",
      "Sigma is 0.000000 arcmin (0.000000 rad) \n",
      "-> fwhm is 0.000000 arcmin\n",
      "Sigma is 60.000000 arcmin (0.017453 rad) \n",
      "-> fwhm is 141.289203 arcmin\n",
      "Sigma is 0.000000 arcmin (0.000000 rad) \n",
      "-> fwhm is 0.000000 arcmin\n",
      "Sigma is 180.000000 arcmin (0.052360 rad) \n",
      "-> fwhm is 423.867608 arcmin\n",
      "Sigma is 0.000000 arcmin (0.000000 rad) \n",
      "-> fwhm is 0.000000 arcmin\n",
      "Sigma is 30.000000 arcmin (0.008727 rad) \n",
      "-> fwhm is 70.644601 arcmin\n",
      "Sigma is 0.000000 arcmin (0.000000 rad) \n",
      "-> fwhm is 0.000000 arcmin\n",
      "Sigma is 60.000000 arcmin (0.017453 rad) \n",
      "-> fwhm is 141.289203 arcmin\n",
      "Sigma is 0.000000 arcmin (0.000000 rad) \n",
      "-> fwhm is 0.000000 arcmin\n",
      "Sigma is 180.000000 arcmin (0.052360 rad) \n",
      "-> fwhm is 423.867608 arcmin\n",
      "Sigma is 0.000000 arcmin (0.000000 rad) \n",
      "-> fwhm is 0.000000 arcmin\n",
      "Sigma is 30.000000 arcmin (0.008727 rad) \n",
      "-> fwhm is 70.644601 arcmin\n",
      "Sigma is 0.000000 arcmin (0.000000 rad) \n",
      "-> fwhm is 0.000000 arcmin\n",
      "Sigma is 60.000000 arcmin (0.017453 rad) \n",
      "-> fwhm is 141.289203 arcmin\n",
      "Sigma is 0.000000 arcmin (0.000000 rad) \n",
      "-> fwhm is 0.000000 arcmin\n",
      "Sigma is 180.000000 arcmin (0.052360 rad) \n",
      "-> fwhm is 423.867608 arcmin\n",
      "Sigma is 0.000000 arcmin (0.000000 rad) \n",
      "-> fwhm is 0.000000 arcmin\n"
     ]
    },
    {
     "name": "stderr",
     "output_type": "stream",
     "text": [
      " 80%|████████  | 40/50 [08:05<02:00, 12.03s/it]"
     ]
    },
    {
     "name": "stdout",
     "output_type": "stream",
     "text": [
      "Sigma is 30.000000 arcmin (0.008727 rad) \n",
      "-> fwhm is 70.644601 arcmin\n",
      "Sigma is 0.000000 arcmin (0.000000 rad) \n",
      "-> fwhm is 0.000000 arcmin\n",
      "Sigma is 60.000000 arcmin (0.017453 rad) \n",
      "-> fwhm is 141.289203 arcmin\n",
      "Sigma is 0.000000 arcmin (0.000000 rad) \n",
      "-> fwhm is 0.000000 arcmin\n",
      "Sigma is 180.000000 arcmin (0.052360 rad) \n",
      "-> fwhm is 423.867608 arcmin\n",
      "Sigma is 0.000000 arcmin (0.000000 rad) \n",
      "-> fwhm is 0.000000 arcmin\n",
      "Sigma is 30.000000 arcmin (0.008727 rad) \n",
      "-> fwhm is 70.644601 arcmin\n",
      "Sigma is 0.000000 arcmin (0.000000 rad) \n",
      "-> fwhm is 0.000000 arcmin\n",
      "Sigma is 60.000000 arcmin (0.017453 rad) \n",
      "-> fwhm is 141.289203 arcmin\n",
      "Sigma is 0.000000 arcmin (0.000000 rad) \n",
      "-> fwhm is 0.000000 arcmin\n",
      "Sigma is 180.000000 arcmin (0.052360 rad) \n",
      "-> fwhm is 423.867608 arcmin\n",
      "Sigma is 0.000000 arcmin (0.000000 rad) \n",
      "-> fwhm is 0.000000 arcmin\n",
      "Sigma is 30.000000 arcmin (0.008727 rad) \n",
      "-> fwhm is 70.644601 arcmin\n",
      "Sigma is 0.000000 arcmin (0.000000 rad) \n",
      "-> fwhm is 0.000000 arcmin\n",
      "Sigma is 60.000000 arcmin (0.017453 rad) \n",
      "-> fwhm is 141.289203 arcmin\n",
      "Sigma is 0.000000 arcmin (0.000000 rad) \n",
      "-> fwhm is 0.000000 arcmin\n",
      "Sigma is 180.000000 arcmin (0.052360 rad) \n",
      "-> fwhm is 423.867608 arcmin\n",
      "Sigma is 0.000000 arcmin (0.000000 rad) \n",
      "-> fwhm is 0.000000 arcmin\n"
     ]
    },
    {
     "name": "stderr",
     "output_type": "stream",
     "text": [
      " 82%|████████▏ | 41/50 [08:17<01:48, 12.06s/it]"
     ]
    },
    {
     "name": "stdout",
     "output_type": "stream",
     "text": [
      "Sigma is 30.000000 arcmin (0.008727 rad) \n",
      "-> fwhm is 70.644601 arcmin\n",
      "Sigma is 0.000000 arcmin (0.000000 rad) \n",
      "-> fwhm is 0.000000 arcmin\n",
      "Sigma is 60.000000 arcmin (0.017453 rad) \n",
      "-> fwhm is 141.289203 arcmin\n",
      "Sigma is 0.000000 arcmin (0.000000 rad) \n",
      "-> fwhm is 0.000000 arcmin\n",
      "Sigma is 180.000000 arcmin (0.052360 rad) \n",
      "-> fwhm is 423.867608 arcmin\n",
      "Sigma is 0.000000 arcmin (0.000000 rad) \n",
      "-> fwhm is 0.000000 arcmin\n",
      "Sigma is 30.000000 arcmin (0.008727 rad) \n",
      "-> fwhm is 70.644601 arcmin\n",
      "Sigma is 0.000000 arcmin (0.000000 rad) \n",
      "-> fwhm is 0.000000 arcmin\n",
      "Sigma is 60.000000 arcmin (0.017453 rad) \n",
      "-> fwhm is 141.289203 arcmin\n",
      "Sigma is 0.000000 arcmin (0.000000 rad) \n",
      "-> fwhm is 0.000000 arcmin\n",
      "Sigma is 180.000000 arcmin (0.052360 rad) \n",
      "-> fwhm is 423.867608 arcmin\n",
      "Sigma is 0.000000 arcmin (0.000000 rad) \n",
      "-> fwhm is 0.000000 arcmin\n",
      "Sigma is 30.000000 arcmin (0.008727 rad) \n",
      "-> fwhm is 70.644601 arcmin\n",
      "Sigma is 0.000000 arcmin (0.000000 rad) \n",
      "-> fwhm is 0.000000 arcmin\n",
      "Sigma is 60.000000 arcmin (0.017453 rad) \n",
      "-> fwhm is 141.289203 arcmin\n",
      "Sigma is 0.000000 arcmin (0.000000 rad) \n",
      "-> fwhm is 0.000000 arcmin\n",
      "Sigma is 180.000000 arcmin (0.052360 rad) \n",
      "-> fwhm is 423.867608 arcmin\n",
      "Sigma is 0.000000 arcmin (0.000000 rad) \n",
      "-> fwhm is 0.000000 arcmin\n"
     ]
    },
    {
     "name": "stderr",
     "output_type": "stream",
     "text": [
      " 84%|████████▍ | 42/50 [08:29<01:36, 12.10s/it]"
     ]
    },
    {
     "name": "stdout",
     "output_type": "stream",
     "text": [
      "Sigma is 30.000000 arcmin (0.008727 rad) \n",
      "-> fwhm is 70.644601 arcmin\n",
      "Sigma is 0.000000 arcmin (0.000000 rad) \n",
      "-> fwhm is 0.000000 arcmin\n",
      "Sigma is 60.000000 arcmin (0.017453 rad) \n",
      "-> fwhm is 141.289203 arcmin\n",
      "Sigma is 0.000000 arcmin (0.000000 rad) \n",
      "-> fwhm is 0.000000 arcmin\n",
      "Sigma is 180.000000 arcmin (0.052360 rad) \n",
      "-> fwhm is 423.867608 arcmin\n",
      "Sigma is 0.000000 arcmin (0.000000 rad) \n",
      "-> fwhm is 0.000000 arcmin\n",
      "Sigma is 30.000000 arcmin (0.008727 rad) \n",
      "-> fwhm is 70.644601 arcmin\n",
      "Sigma is 0.000000 arcmin (0.000000 rad) \n",
      "-> fwhm is 0.000000 arcmin\n",
      "Sigma is 60.000000 arcmin (0.017453 rad) \n",
      "-> fwhm is 141.289203 arcmin\n",
      "Sigma is 0.000000 arcmin (0.000000 rad) \n",
      "-> fwhm is 0.000000 arcmin\n",
      "Sigma is 180.000000 arcmin (0.052360 rad) \n",
      "-> fwhm is 423.867608 arcmin\n",
      "Sigma is 0.000000 arcmin (0.000000 rad) \n",
      "-> fwhm is 0.000000 arcmin\n",
      "Sigma is 30.000000 arcmin (0.008727 rad) \n",
      "-> fwhm is 70.644601 arcmin\n",
      "Sigma is 0.000000 arcmin (0.000000 rad) \n",
      "-> fwhm is 0.000000 arcmin\n",
      "Sigma is 60.000000 arcmin (0.017453 rad) \n",
      "-> fwhm is 141.289203 arcmin\n",
      "Sigma is 0.000000 arcmin (0.000000 rad) \n",
      "-> fwhm is 0.000000 arcmin\n",
      "Sigma is 180.000000 arcmin (0.052360 rad) \n",
      "-> fwhm is 423.867608 arcmin\n",
      "Sigma is 0.000000 arcmin (0.000000 rad) \n",
      "-> fwhm is 0.000000 arcmin\n"
     ]
    },
    {
     "name": "stderr",
     "output_type": "stream",
     "text": [
      " 86%|████████▌ | 43/50 [08:42<01:25, 12.27s/it]"
     ]
    },
    {
     "name": "stdout",
     "output_type": "stream",
     "text": [
      "Sigma is 30.000000 arcmin (0.008727 rad) \n",
      "-> fwhm is 70.644601 arcmin\n",
      "Sigma is 0.000000 arcmin (0.000000 rad) \n",
      "-> fwhm is 0.000000 arcmin\n",
      "Sigma is 60.000000 arcmin (0.017453 rad) \n",
      "-> fwhm is 141.289203 arcmin\n",
      "Sigma is 0.000000 arcmin (0.000000 rad) \n",
      "-> fwhm is 0.000000 arcmin\n",
      "Sigma is 180.000000 arcmin (0.052360 rad) \n",
      "-> fwhm is 423.867608 arcmin\n",
      "Sigma is 0.000000 arcmin (0.000000 rad) \n",
      "-> fwhm is 0.000000 arcmin\n",
      "Sigma is 30.000000 arcmin (0.008727 rad) \n",
      "-> fwhm is 70.644601 arcmin\n",
      "Sigma is 0.000000 arcmin (0.000000 rad) \n",
      "-> fwhm is 0.000000 arcmin\n",
      "Sigma is 60.000000 arcmin (0.017453 rad) \n",
      "-> fwhm is 141.289203 arcmin\n",
      "Sigma is 0.000000 arcmin (0.000000 rad) \n",
      "-> fwhm is 0.000000 arcmin\n",
      "Sigma is 180.000000 arcmin (0.052360 rad) \n",
      "-> fwhm is 423.867608 arcmin\n",
      "Sigma is 0.000000 arcmin (0.000000 rad) \n",
      "-> fwhm is 0.000000 arcmin\n",
      "Sigma is 30.000000 arcmin (0.008727 rad) \n",
      "-> fwhm is 70.644601 arcmin\n",
      "Sigma is 0.000000 arcmin (0.000000 rad) \n",
      "-> fwhm is 0.000000 arcmin\n",
      "Sigma is 60.000000 arcmin (0.017453 rad) \n",
      "-> fwhm is 141.289203 arcmin\n",
      "Sigma is 0.000000 arcmin (0.000000 rad) \n",
      "-> fwhm is 0.000000 arcmin\n",
      "Sigma is 180.000000 arcmin (0.052360 rad) \n",
      "-> fwhm is 423.867608 arcmin\n",
      "Sigma is 0.000000 arcmin (0.000000 rad) \n",
      "-> fwhm is 0.000000 arcmin\n"
     ]
    },
    {
     "name": "stderr",
     "output_type": "stream",
     "text": [
      " 88%|████████▊ | 44/50 [08:54<01:13, 12.23s/it]"
     ]
    },
    {
     "name": "stdout",
     "output_type": "stream",
     "text": [
      "Sigma is 30.000000 arcmin (0.008727 rad) \n",
      "-> fwhm is 70.644601 arcmin\n",
      "Sigma is 0.000000 arcmin (0.000000 rad) \n",
      "-> fwhm is 0.000000 arcmin\n",
      "Sigma is 60.000000 arcmin (0.017453 rad) \n",
      "-> fwhm is 141.289203 arcmin\n",
      "Sigma is 0.000000 arcmin (0.000000 rad) \n",
      "-> fwhm is 0.000000 arcmin\n",
      "Sigma is 180.000000 arcmin (0.052360 rad) \n",
      "-> fwhm is 423.867608 arcmin\n",
      "Sigma is 0.000000 arcmin (0.000000 rad) \n",
      "-> fwhm is 0.000000 arcmin\n",
      "Sigma is 30.000000 arcmin (0.008727 rad) \n",
      "-> fwhm is 70.644601 arcmin\n",
      "Sigma is 0.000000 arcmin (0.000000 rad) \n",
      "-> fwhm is 0.000000 arcmin\n",
      "Sigma is 60.000000 arcmin (0.017453 rad) \n",
      "-> fwhm is 141.289203 arcmin\n",
      "Sigma is 0.000000 arcmin (0.000000 rad) \n",
      "-> fwhm is 0.000000 arcmin\n",
      "Sigma is 180.000000 arcmin (0.052360 rad) \n",
      "-> fwhm is 423.867608 arcmin\n",
      "Sigma is 0.000000 arcmin (0.000000 rad) \n",
      "-> fwhm is 0.000000 arcmin\n",
      "Sigma is 30.000000 arcmin (0.008727 rad) \n",
      "-> fwhm is 70.644601 arcmin\n",
      "Sigma is 0.000000 arcmin (0.000000 rad) \n",
      "-> fwhm is 0.000000 arcmin\n",
      "Sigma is 60.000000 arcmin (0.017453 rad) \n",
      "-> fwhm is 141.289203 arcmin\n",
      "Sigma is 0.000000 arcmin (0.000000 rad) \n",
      "-> fwhm is 0.000000 arcmin\n",
      "Sigma is 180.000000 arcmin (0.052360 rad) \n",
      "-> fwhm is 423.867608 arcmin\n",
      "Sigma is 0.000000 arcmin (0.000000 rad) \n",
      "-> fwhm is 0.000000 arcmin\n"
     ]
    },
    {
     "name": "stderr",
     "output_type": "stream",
     "text": [
      " 90%|█████████ | 45/50 [09:06<01:00, 12.15s/it]"
     ]
    },
    {
     "name": "stdout",
     "output_type": "stream",
     "text": [
      "Sigma is 30.000000 arcmin (0.008727 rad) \n",
      "-> fwhm is 70.644601 arcmin\n",
      "Sigma is 0.000000 arcmin (0.000000 rad) \n",
      "-> fwhm is 0.000000 arcmin\n",
      "Sigma is 60.000000 arcmin (0.017453 rad) \n",
      "-> fwhm is 141.289203 arcmin\n",
      "Sigma is 0.000000 arcmin (0.000000 rad) \n",
      "-> fwhm is 0.000000 arcmin\n",
      "Sigma is 180.000000 arcmin (0.052360 rad) \n",
      "-> fwhm is 423.867608 arcmin\n",
      "Sigma is 0.000000 arcmin (0.000000 rad) \n",
      "-> fwhm is 0.000000 arcmin\n",
      "Sigma is 30.000000 arcmin (0.008727 rad) \n",
      "-> fwhm is 70.644601 arcmin\n",
      "Sigma is 0.000000 arcmin (0.000000 rad) \n",
      "-> fwhm is 0.000000 arcmin\n",
      "Sigma is 60.000000 arcmin (0.017453 rad) \n",
      "-> fwhm is 141.289203 arcmin\n",
      "Sigma is 0.000000 arcmin (0.000000 rad) \n",
      "-> fwhm is 0.000000 arcmin\n",
      "Sigma is 180.000000 arcmin (0.052360 rad) \n",
      "-> fwhm is 423.867608 arcmin\n",
      "Sigma is 0.000000 arcmin (0.000000 rad) \n",
      "-> fwhm is 0.000000 arcmin\n",
      "Sigma is 30.000000 arcmin (0.008727 rad) \n",
      "-> fwhm is 70.644601 arcmin\n",
      "Sigma is 0.000000 arcmin (0.000000 rad) \n",
      "-> fwhm is 0.000000 arcmin\n",
      "Sigma is 60.000000 arcmin (0.017453 rad) \n",
      "-> fwhm is 141.289203 arcmin\n",
      "Sigma is 0.000000 arcmin (0.000000 rad) \n",
      "-> fwhm is 0.000000 arcmin\n",
      "Sigma is 180.000000 arcmin (0.052360 rad) \n",
      "-> fwhm is 423.867608 arcmin\n",
      "Sigma is 0.000000 arcmin (0.000000 rad) \n",
      "-> fwhm is 0.000000 arcmin\n"
     ]
    },
    {
     "name": "stderr",
     "output_type": "stream",
     "text": [
      " 92%|█████████▏| 46/50 [09:18<00:48, 12.16s/it]"
     ]
    },
    {
     "name": "stdout",
     "output_type": "stream",
     "text": [
      "Sigma is 30.000000 arcmin (0.008727 rad) \n",
      "-> fwhm is 70.644601 arcmin\n",
      "Sigma is 0.000000 arcmin (0.000000 rad) \n",
      "-> fwhm is 0.000000 arcmin\n",
      "Sigma is 60.000000 arcmin (0.017453 rad) \n",
      "-> fwhm is 141.289203 arcmin\n",
      "Sigma is 0.000000 arcmin (0.000000 rad) \n",
      "-> fwhm is 0.000000 arcmin\n",
      "Sigma is 180.000000 arcmin (0.052360 rad) \n",
      "-> fwhm is 423.867608 arcmin\n",
      "Sigma is 0.000000 arcmin (0.000000 rad) \n",
      "-> fwhm is 0.000000 arcmin\n",
      "Sigma is 30.000000 arcmin (0.008727 rad) \n",
      "-> fwhm is 70.644601 arcmin\n",
      "Sigma is 0.000000 arcmin (0.000000 rad) \n",
      "-> fwhm is 0.000000 arcmin\n",
      "Sigma is 60.000000 arcmin (0.017453 rad) \n",
      "-> fwhm is 141.289203 arcmin\n",
      "Sigma is 0.000000 arcmin (0.000000 rad) \n",
      "-> fwhm is 0.000000 arcmin\n",
      "Sigma is 180.000000 arcmin (0.052360 rad) \n",
      "-> fwhm is 423.867608 arcmin\n",
      "Sigma is 0.000000 arcmin (0.000000 rad) \n",
      "-> fwhm is 0.000000 arcmin\n",
      "Sigma is 30.000000 arcmin (0.008727 rad) \n",
      "-> fwhm is 70.644601 arcmin\n",
      "Sigma is 0.000000 arcmin (0.000000 rad) \n",
      "-> fwhm is 0.000000 arcmin\n",
      "Sigma is 60.000000 arcmin (0.017453 rad) \n",
      "-> fwhm is 141.289203 arcmin\n",
      "Sigma is 0.000000 arcmin (0.000000 rad) \n",
      "-> fwhm is 0.000000 arcmin\n",
      "Sigma is 180.000000 arcmin (0.052360 rad) \n",
      "-> fwhm is 423.867608 arcmin\n",
      "Sigma is 0.000000 arcmin (0.000000 rad) \n",
      "-> fwhm is 0.000000 arcmin\n"
     ]
    },
    {
     "name": "stderr",
     "output_type": "stream",
     "text": [
      " 94%|█████████▍| 47/50 [09:30<00:36, 12.15s/it]"
     ]
    },
    {
     "name": "stdout",
     "output_type": "stream",
     "text": [
      "Sigma is 30.000000 arcmin (0.008727 rad) \n",
      "-> fwhm is 70.644601 arcmin\n",
      "Sigma is 0.000000 arcmin (0.000000 rad) \n",
      "-> fwhm is 0.000000 arcmin\n",
      "Sigma is 60.000000 arcmin (0.017453 rad) \n",
      "-> fwhm is 141.289203 arcmin\n",
      "Sigma is 0.000000 arcmin (0.000000 rad) \n",
      "-> fwhm is 0.000000 arcmin\n",
      "Sigma is 180.000000 arcmin (0.052360 rad) \n",
      "-> fwhm is 423.867608 arcmin\n",
      "Sigma is 0.000000 arcmin (0.000000 rad) \n",
      "-> fwhm is 0.000000 arcmin\n",
      "Sigma is 30.000000 arcmin (0.008727 rad) \n",
      "-> fwhm is 70.644601 arcmin\n",
      "Sigma is 0.000000 arcmin (0.000000 rad) \n",
      "-> fwhm is 0.000000 arcmin\n",
      "Sigma is 60.000000 arcmin (0.017453 rad) \n",
      "-> fwhm is 141.289203 arcmin\n",
      "Sigma is 0.000000 arcmin (0.000000 rad) \n",
      "-> fwhm is 0.000000 arcmin\n",
      "Sigma is 180.000000 arcmin (0.052360 rad) \n",
      "-> fwhm is 423.867608 arcmin\n",
      "Sigma is 0.000000 arcmin (0.000000 rad) \n",
      "-> fwhm is 0.000000 arcmin\n",
      "Sigma is 30.000000 arcmin (0.008727 rad) \n",
      "-> fwhm is 70.644601 arcmin\n",
      "Sigma is 0.000000 arcmin (0.000000 rad) \n",
      "-> fwhm is 0.000000 arcmin\n",
      "Sigma is 60.000000 arcmin (0.017453 rad) \n",
      "-> fwhm is 141.289203 arcmin\n",
      "Sigma is 0.000000 arcmin (0.000000 rad) \n",
      "-> fwhm is 0.000000 arcmin\n",
      "Sigma is 180.000000 arcmin (0.052360 rad) \n",
      "-> fwhm is 423.867608 arcmin\n",
      "Sigma is 0.000000 arcmin (0.000000 rad) \n",
      "-> fwhm is 0.000000 arcmin\n"
     ]
    },
    {
     "name": "stderr",
     "output_type": "stream",
     "text": [
      " 96%|█████████▌| 48/50 [09:43<00:24, 12.19s/it]"
     ]
    },
    {
     "name": "stdout",
     "output_type": "stream",
     "text": [
      "Sigma is 30.000000 arcmin (0.008727 rad) \n",
      "-> fwhm is 70.644601 arcmin\n",
      "Sigma is 0.000000 arcmin (0.000000 rad) \n",
      "-> fwhm is 0.000000 arcmin\n",
      "Sigma is 60.000000 arcmin (0.017453 rad) \n",
      "-> fwhm is 141.289203 arcmin\n",
      "Sigma is 0.000000 arcmin (0.000000 rad) \n",
      "-> fwhm is 0.000000 arcmin\n",
      "Sigma is 180.000000 arcmin (0.052360 rad) \n",
      "-> fwhm is 423.867608 arcmin\n",
      "Sigma is 0.000000 arcmin (0.000000 rad) \n",
      "-> fwhm is 0.000000 arcmin\n",
      "Sigma is 30.000000 arcmin (0.008727 rad) \n",
      "-> fwhm is 70.644601 arcmin\n",
      "Sigma is 0.000000 arcmin (0.000000 rad) \n",
      "-> fwhm is 0.000000 arcmin\n",
      "Sigma is 60.000000 arcmin (0.017453 rad) \n",
      "-> fwhm is 141.289203 arcmin\n",
      "Sigma is 0.000000 arcmin (0.000000 rad) \n",
      "-> fwhm is 0.000000 arcmin\n",
      "Sigma is 180.000000 arcmin (0.052360 rad) \n",
      "-> fwhm is 423.867608 arcmin\n",
      "Sigma is 0.000000 arcmin (0.000000 rad) \n",
      "-> fwhm is 0.000000 arcmin\n",
      "Sigma is 30.000000 arcmin (0.008727 rad) \n",
      "-> fwhm is 70.644601 arcmin\n",
      "Sigma is 0.000000 arcmin (0.000000 rad) \n",
      "-> fwhm is 0.000000 arcmin\n",
      "Sigma is 60.000000 arcmin (0.017453 rad) \n",
      "-> fwhm is 141.289203 arcmin\n",
      "Sigma is 0.000000 arcmin (0.000000 rad) \n",
      "-> fwhm is 0.000000 arcmin\n",
      "Sigma is 180.000000 arcmin (0.052360 rad) \n",
      "-> fwhm is 423.867608 arcmin\n",
      "Sigma is 0.000000 arcmin (0.000000 rad) \n",
      "-> fwhm is 0.000000 arcmin\n"
     ]
    },
    {
     "name": "stderr",
     "output_type": "stream",
     "text": [
      " 98%|█████████▊| 49/50 [09:57<00:12, 12.71s/it]"
     ]
    },
    {
     "name": "stdout",
     "output_type": "stream",
     "text": [
      "Sigma is 30.000000 arcmin (0.008727 rad) \n",
      "-> fwhm is 70.644601 arcmin\n",
      "Sigma is 0.000000 arcmin (0.000000 rad) \n",
      "-> fwhm is 0.000000 arcmin\n",
      "Sigma is 60.000000 arcmin (0.017453 rad) \n",
      "-> fwhm is 141.289203 arcmin\n",
      "Sigma is 0.000000 arcmin (0.000000 rad) \n",
      "-> fwhm is 0.000000 arcmin\n",
      "Sigma is 180.000000 arcmin (0.052360 rad) \n",
      "-> fwhm is 423.867608 arcmin\n",
      "Sigma is 0.000000 arcmin (0.000000 rad) \n",
      "-> fwhm is 0.000000 arcmin\n",
      "Sigma is 30.000000 arcmin (0.008727 rad) \n",
      "-> fwhm is 70.644601 arcmin\n",
      "Sigma is 0.000000 arcmin (0.000000 rad) \n",
      "-> fwhm is 0.000000 arcmin\n",
      "Sigma is 60.000000 arcmin (0.017453 rad) \n",
      "-> fwhm is 141.289203 arcmin\n",
      "Sigma is 0.000000 arcmin (0.000000 rad) \n",
      "-> fwhm is 0.000000 arcmin\n",
      "Sigma is 180.000000 arcmin (0.052360 rad) \n",
      "-> fwhm is 423.867608 arcmin\n",
      "Sigma is 0.000000 arcmin (0.000000 rad) \n",
      "-> fwhm is 0.000000 arcmin\n",
      "Sigma is 30.000000 arcmin (0.008727 rad) \n",
      "-> fwhm is 70.644601 arcmin\n",
      "Sigma is 0.000000 arcmin (0.000000 rad) \n",
      "-> fwhm is 0.000000 arcmin\n",
      "Sigma is 60.000000 arcmin (0.017453 rad) \n",
      "-> fwhm is 141.289203 arcmin\n",
      "Sigma is 0.000000 arcmin (0.000000 rad) \n",
      "-> fwhm is 0.000000 arcmin\n",
      "Sigma is 180.000000 arcmin (0.052360 rad) \n",
      "-> fwhm is 423.867608 arcmin\n",
      "Sigma is 0.000000 arcmin (0.000000 rad) \n",
      "-> fwhm is 0.000000 arcmin\n"
     ]
    },
    {
     "name": "stderr",
     "output_type": "stream",
     "text": [
      "100%|██████████| 50/50 [10:09<00:00, 12.18s/it]\n"
     ]
    }
   ],
   "source": [
    "# # df0 = np.load('/global/cscratch1/sd/dominikz/DES_Y3_PKDGRAV_SIMS/fidu_run_1/kappa_maps/kappa_map_cosmo_Om=0.26_num=49_s8=0.84_bin0.npy')\n",
    "# from tqdm import tqdm\n",
    "# s1 = 30.*(1/60.)*(np.pi/180.)\n",
    "# s2 = 60*(1/60.)*(np.pi/180.)\n",
    "# s3 = 180*(1/60.)*(np.pi/180.)\n",
    "# nside = 256\n",
    "\n",
    "# yvals_all = []\n",
    "\n",
    "# df1_s1_all = []\n",
    "# df1_s2_all = []\n",
    "# df1_s3_all = []\n",
    "\n",
    "# df2_s1_all = []\n",
    "# df2_s2_all = []\n",
    "# df2_s3_all = []\n",
    "\n",
    "# df3_s1_all = []\n",
    "# df3_s2_all = []\n",
    "# df3_s3_all = []\n",
    "\n",
    "\n",
    "# for ji in tqdm(range(50)):\n",
    "#     df1 = np.load('/global/cscratch1/sd/dominikz/DES_Y3_PKDGRAV_SIMS/fidu_run_1/kappa_maps/kappa_map_cosmo_Om=0.26_num=' + str(ji) + '_s8=0.84_bin1.npy')\n",
    "#     df2 = np.load('/global/cscratch1/sd/dominikz/DES_Y3_PKDGRAV_SIMS/fidu_run_1/kappa_maps/kappa_map_cosmo_Om=0.26_num=' + str(ji) + '_s8=0.84_bin2.npy')\n",
    "#     df3 = np.load('/global/cscratch1/sd/dominikz/DES_Y3_PKDGRAV_SIMS/fidu_run_1/kappa_maps/kappa_map_cosmo_Om=0.26_num=' + str(ji) + '_s8=0.84_bin3.npy')\n",
    "\n",
    "\n",
    "#     df1_s1_all.append(hp.smoothing(hp.ud_grade(df1,nside), sigma=s1))\n",
    "#     df1_s2_all.append(hp.smoothing(hp.ud_grade(df1,nside), sigma=s2))\n",
    "#     df1_s3_all.append(hp.smoothing(hp.ud_grade(df1,nside), sigma=s3))\n",
    "\n",
    "#     df2_s1_all.append(hp.smoothing(hp.ud_grade(df2,nside), sigma=s1))\n",
    "#     df2_s2_all.append(hp.smoothing(hp.ud_grade(df2,nside), sigma=s2))\n",
    "#     df2_s3_all.append(hp.smoothing(hp.ud_grade(df2,nside), sigma=s3))\n",
    "\n",
    "#     df3_s1_all.append(hp.smoothing(hp.ud_grade(df3,nside), sigma=s1))\n",
    "#     df3_s2_all.append(hp.smoothing(hp.ud_grade(df3,nside), sigma=s2))\n",
    "#     df3_s3_all.append(hp.smoothing(hp.ud_grade(df3,nside), sigma=s3))\n",
    "    \n",
    "#     yvals = np.array([np.mean(df1_s1*df2_s2*df3_s3), np.mean(df1_s1*df2_s3*df3_s2), \n",
    "#                   np.mean(df1_s2*df2_s1*df3_s3), np.mean(df1_s2*df2_s3*df3_s1),\n",
    "#                   np.mean(df1_s3*df2_s2*df3_s1), np.mean(df1_s3*df2_s1*df3_s2)])\n",
    "    \n",
    "#     yvals_all.append(yvals)\n",
    "    \n",
    "    "
   ]
  },
  {
   "cell_type": "code",
   "execution_count": 1,
   "id": "3e37c975-91af-41b9-baf9-3601a4ff5b0e",
   "metadata": {},
   "outputs": [],
   "source": [
    "# # saved = {'df1_s1':df1_s1_all, ''}\n",
    "# saved = pk.load(open('/global/cfs/cdirs/des/shivamp/cosmosis2p0/cosmosis-standard-library/gen_moments/kappa_1_2_3_smoothed.pk','rb'))\n",
    "\n",
    "\n"
   ]
  },
  {
   "cell_type": "code",
   "execution_count": 1,
   "id": "636e7a24-901a-484f-a3c9-bab438a246a8",
   "metadata": {},
   "outputs": [],
   "source": [
    "# saved = {'df1_s1':df1_s1_all, ''}\n",
    "saved = pk.load(open('/global/cfs/cdirs/des/shivamp/cosmosis2p0/cosmosis-standard-library/gen_moments/kappa_1_2_3_smoothed.pk','rb'))\n",
    "\n",
    "\n"
   ]
  },
  {
   "cell_type": "code",
   "execution_count": 3,
   "id": "93f02cf3-65f5-463d-876b-3bad66b26b72",
   "metadata": {},
   "outputs": [
    {
     "data": {
      "text/plain": [
       "dict_keys(['df1_s1', 'df1_s2', 'df1_s3', 'df2_s1', 'df2_s2', 'df2_s3', 'df3_s1', 'df3_s2', 'df3_s3', 's1', 's2', 's3'])"
      ]
     },
     "execution_count": 3,
     "metadata": {},
     "output_type": "execute_result"
    }
   ],
   "source": [
    "saved.keys()\n"
   ]
  },
  {
   "cell_type": "code",
   "execution_count": 4,
   "id": "ab18183a-b9b2-424b-a396-aaa3f4b7b41d",
   "metadata": {},
   "outputs": [],
   "source": [
    "df1_s1_all = saved['df1_s1']\n",
    "df1_s2_all = saved['df1_s2']\n",
    "df1_s3_all = saved['df1_s3']\n",
    "\n",
    "df2_s1_all = saved['df2_s1']\n",
    "df2_s2_all = saved['df2_s2']\n",
    "df2_s3_all = saved['df2_s3']\n",
    "\n",
    "df3_s1_all = saved['df3_s1']\n",
    "df3_s2_all = saved['df3_s2']\n",
    "df3_s3_all = saved['df3_s3']\n",
    "\n"
   ]
  },
  {
   "cell_type": "code",
   "execution_count": 9,
   "id": "f2d553d7-4aed-4d53-8aed-8cf8932b320a",
   "metadata": {},
   "outputs": [
    {
     "data": {
      "text/plain": [
       "Text(0, 0.5, '$\\\\langle \\\\kappa^{(1)}\\\\kappa^{(2)}\\\\kappa^{(3)} \\\\rangle$')"
      ]
     },
     "execution_count": 9,
     "metadata": {},
     "output_type": "execute_result"
    },
    {
     "data": {
      "image/png": "[encoded data removed]",
      "text/plain": [
       "<Figure size 504x504 with 1 Axes>"
      ]
     },
     "metadata": {
      "needs_background": "light"
     },
     "output_type": "display_data"
    }
   ],
   "source": [
    "# xlabels = ['123', '132', '213', '231', '321', '312']\n",
    "# # yvals = np.array([np.mean(df1_s1*df2_s2*df3_s3), np.mean(df1_s1*df2_s3*df3_s2), \n",
    "# #                   np.mean(df1_s2*df2_s1*df3_s3), np.mean(df1_s2*df2_s3*df3_s1),\n",
    "# #                   np.mean(df1_s3*df2_s2*df3_s1), np.mean(df1_s3*df2_s1*df3_s2)])\n",
    "\n",
    "pl.figure()\n",
    "for ji in range(50):\n",
    "    df1_s1  = df1_s1_all[ji]\n",
    "    df1_s2  = df1_s2_all[ji]\n",
    "    df1_s3  = df1_s3_all[ji]\n",
    "    \n",
    "    df2_s1  = df2_s1_all[ji]\n",
    "    df2_s2  = df2_s2_all[ji]\n",
    "    df2_s3  = df2_s3_all[ji] \n",
    "    \n",
    "    df3_s1  = df3_s1_all[ji]\n",
    "    df3_s2  = df3_s2_all[ji]\n",
    "    df3_s3  = df3_s3_all[ji]     \n",
    "    \n",
    "    yvals = np.array([np.mean(df1_s1*df2_s2*df3_s3), np.mean(df1_s1*df2_s3*df3_s2), \n",
    "                  np.mean(df1_s2*df2_s1*df3_s3), np.mean(df1_s2*df2_s3*df3_s1),\n",
    "                  np.mean(df1_s3*df2_s2*df3_s1), np.mean(df1_s3*df2_s1*df3_s2)])\n",
    "    \n",
    "    pl.plot(yvals, color='k', alpha=0.2)\n",
    "pl.xticks([0,1,2,3,4,5], xlabels)\n",
    "pl.xlabel('Smoothing scale combinations')\n",
    "pl.ylabel(r'$\\langle \\kappa^{(1)}\\kappa^{(2)}\\kappa^{(3)} \\rangle$')\n",
    "\n",
    "\n"
   ]
  },
  {
   "cell_type": "code",
   "execution_count": 7,
   "id": "31d0e6fd-fd6c-438a-b834-e5d0956963d0",
   "metadata": {},
   "outputs": [
    {
     "data": {
      "text/plain": [
       "Text(0, 0.5, '$\\\\langle \\\\kappa^{(1)}\\\\kappa^{(1)}\\\\kappa^{(1)} \\\\rangle$')"
      ]
     },
     "execution_count": 7,
     "metadata": {},
     "output_type": "execute_result"
    },
    {
     "data": {
      "image/png": "[encoded data removed]",
      "text/plain": [
       "<Figure size 504x504 with 1 Axes>"
      ]
     },
     "metadata": {
      "needs_background": "light"
     },
     "output_type": "display_data"
    }
   ],
   "source": [
    "xlabels = ['123', '132', '213', '231', '321', '312']\n",
    "# yvals = np.array([np.mean(df1_s1*df2_s2*df3_s3), np.mean(df1_s1*df2_s3*df3_s2), \n",
    "#                   np.mean(df1_s2*df2_s1*df3_s3), np.mean(df1_s2*df2_s3*df3_s1),\n",
    "#                   np.mean(df1_s3*df2_s2*df3_s1), np.mean(df1_s3*df2_s1*df3_s2)])\n",
    "\n",
    "pl.figure()\n",
    "for ji in range(10):\n",
    "    df1_s1  = df1_s1_all[ji]\n",
    "    df1_s2  = df1_s2_all[ji]\n",
    "    df1_s3  = df1_s3_all[ji]\n",
    "    \n",
    "    df2_s1  = df2_s1_all[ji]\n",
    "    df2_s2  = df2_s2_all[ji]\n",
    "    df2_s3  = df2_s3_all[ji] \n",
    "    \n",
    "    df3_s1  = df3_s1_all[ji]\n",
    "    df3_s2  = df3_s2_all[ji]\n",
    "    df3_s3  = df3_s3_all[ji]    \n",
    "    \n",
    "    yvals = np.array([np.mean(df1_s1*df1_s2*df1_s3), np.mean(df1_s1*df1_s3*df1_s2), \n",
    "                  np.mean(df2_s2*df2_s1*df2_s3), np.mean(df2_s2*df2_s3*df2_s1),\n",
    "                  np.mean(df3_s3*df3_s2*df3_s1), np.mean(df3_s3*df3_s1*df3_s2)])\n",
    "    pl.plot(yvals)\n",
    "pl.xticks([0,1,2,3,4,5], xlabels)\n",
    "pl.xlabel('Smoothing scale combinations')\n",
    "pl.ylabel(r'$\\langle \\kappa^{(1)}\\kappa^{(1)}\\kappa^{(1)} \\rangle$')\n",
    "\n",
    "\n"
   ]
  },
  {
   "cell_type": "code",
   "execution_count": 92,
   "id": "e2f75b98-9900-414c-bd3f-463c95a71496",
   "metadata": {},
   "outputs": [
    {
     "data": {
      "image/png": "[encoded data removed]",
      "text/plain": [
       "<Figure size 504x504 with 1 Axes>"
      ]
     },
     "metadata": {
      "needs_background": "light"
     },
     "output_type": "display_data"
    }
   ],
   "source": [
    "pl.figure()\n",
    "_ = pl.hist(df1, range=(-0.05, 0.06), bins=100, density=True)\n",
    "_ = pl.hist(df2, range=(-0.05, 0.06), bins=100, density=True)\n",
    "_ = pl.hist(df3, range=(-0.05, 0.06), bins=100, density=True)\n",
    "\n",
    "\n"
   ]
  },
  {
   "cell_type": "code",
   "execution_count": 63,
   "id": "813eb065-a3b4-4eb2-aded-4fd1a170b45d",
   "metadata": {},
   "outputs": [
    {
     "name": "stdout",
     "output_type": "stream",
     "text": [
      "Using provided beam window function\n",
      "Sigma is 0.000000 arcmin (0.000000 rad) \n",
      "-> fwhm is 0.000000 arcmin\n"
     ]
    }
   ],
   "source": [
    "# import scipy as sp\n",
    "# s1 = 8.2*(1/60.)*(np.pi/180.)\n",
    "# # s2 = 20*(1/60.)*(np.pi/180.)\n",
    "# # # s3 = 20*(1/60.)*(np.pi/180.)\n",
    "\n",
    "# def top_hat(b, radius):\n",
    "#     return np.where(abs(b)<=radius, 1, 0)\n",
    "\n",
    "# nside = hp.npix2nside(len(df2))\n",
    "# b = np.linspace(0,0.5,1000)\n",
    "# bw = top_hat(b, s1) #top_hat function of radius 45°\n",
    "# bw = bw/sp.integrate.simps(bw, b)\n",
    "# beam = hp.sphtfunc.beam2bl(bw, b, nside*3)\n",
    "\n",
    "\n",
    "# #Smooth map\n",
    "# tst_map_smoothed = hp.smoothing(df2, beam_window=beam)\n",
    "\n",
    "\n"
   ]
  },
  {
   "cell_type": "code",
   "execution_count": 64,
   "id": "e99956ba-3718-4ae6-b6c1-5d9524b0a4f9",
   "metadata": {},
   "outputs": [],
   "source": [
    "# pl.figure()\n",
    "# # pl.plot(beam)\n",
    "# # pl.plot(b,bw)\n",
    "# # pl.show()\n"
   ]
  },
  {
   "cell_type": "code",
   "execution_count": 68,
   "id": "52de5848-a2c9-481b-9966-63f5b93d897b",
   "metadata": {},
   "outputs": [],
   "source": [
    "# # s1\n",
    "# # b\n",
    "# # bw\n",
    "# pl.figure()\n",
    "# # _ = pl.hist(df1, range=(-0.05, 0.06), bins=100, density=True)\n",
    "# _ = pl.hist(df2, range=(-0.05, 0.06), bins=100, density=True)\n",
    "# _ = pl.hist(df2_s1, range=(-0.05, 0.06), bins=100, density=True)\n",
    "# _ = pl.hist(tst_map_smoothed, range=(-0.05, 0.06), bins=100, density=True)\n",
    "# # _ = pl.hist(tst_map_smoothed, range=(-0.05, 0.06), bins=100, density=True)\n",
    "\n"
   ]
  },
  {
   "cell_type": "code",
   "execution_count": 69,
   "id": "b1f5ab1a-49cf-4917-a30c-0ce84c6bf657",
   "metadata": {},
   "outputs": [],
   "source": [
    "# (1/1e-7)*(8.2**2)*(8.998738694815995e-10)\n",
    "# (1/1e-7)*(54**2)*(3.19e-11)\n",
    "\n",
    "\n"
   ]
  },
  {
   "cell_type": "code",
   "execution_count": 70,
   "id": "5563ccbe-8a2c-4e5d-bf23-a028bf597471",
   "metadata": {},
   "outputs": [],
   "source": [
    "# np.mean((tst_map_smoothed)**3)\n",
    "\n"
   ]
  },
  {
   "cell_type": "code",
   "execution_count": 71,
   "id": "8b059c89-da4e-4f75-b107-9a1e9b2ae8c4",
   "metadata": {},
   "outputs": [],
   "source": [
    "# np.mean((df2 - np.mean(df2))**3)\n",
    "\n"
   ]
  },
  {
   "cell_type": "code",
   "execution_count": 72,
   "id": "745b9881-9403-404c-9618-2422ec3f07e2",
   "metadata": {},
   "outputs": [],
   "source": [
    "# hp.mollview((np.abs(hp.ud_grade(df2, 32))))\n",
    "\n"
   ]
  },
  {
   "cell_type": "code",
   "execution_count": 73,
   "id": "5cf1fe45-af3e-4dc4-8490-19536524be23",
   "metadata": {},
   "outputs": [],
   "source": [
    "# hp.mollview((np.abs(hp.ud_grade(tst_map_smoothed,32))))\n",
    "\n"
   ]
  },
  {
   "cell_type": "code",
   "execution_count": 8,
   "id": "6dcc189b-1b3f-42fa-9d2f-9c393978f690",
   "metadata": {},
   "outputs": [],
   "source": [
    "# s4 = 120*(1/60.)*(np.pi/180.)\n",
    "\n"
   ]
  },
  {
   "cell_type": "code",
   "execution_count": 96,
   "id": "39354230-edc8-42ff-9fae-e73bd22ee3d2",
   "metadata": {},
   "outputs": [],
   "source": [
    "s1 = 30.*(1/60.)*(np.pi/180.)\n",
    "s2 = 60*(1/60.)*(np.pi/180.)\n",
    "s3 = 180*(1/60.)*(np.pi/180.)\n",
    "\n"
   ]
  },
  {
   "cell_type": "code",
   "execution_count": 97,
   "id": "5802e906-0288-4abb-983f-017938b8a708",
   "metadata": {},
   "outputs": [
    {
     "name": "stdout",
     "output_type": "stream",
     "text": [
      "Sigma is 30.000000 arcmin (0.008727 rad) \n",
      "-> fwhm is 70.644601 arcmin\n",
      "Sigma is 0.000000 arcmin (0.000000 rad) \n",
      "-> fwhm is 0.000000 arcmin\n",
      "Sigma is 60.000000 arcmin (0.017453 rad) \n",
      "-> fwhm is 141.289203 arcmin\n",
      "Sigma is 0.000000 arcmin (0.000000 rad) \n",
      "-> fwhm is 0.000000 arcmin\n",
      "Sigma is 180.000000 arcmin (0.052360 rad) \n",
      "-> fwhm is 423.867608 arcmin\n",
      "Sigma is 0.000000 arcmin (0.000000 rad) \n",
      "-> fwhm is 0.000000 arcmin\n",
      "Sigma is 30.000000 arcmin (0.008727 rad) \n",
      "-> fwhm is 70.644601 arcmin\n",
      "Sigma is 0.000000 arcmin (0.000000 rad) \n",
      "-> fwhm is 0.000000 arcmin\n",
      "Sigma is 60.000000 arcmin (0.017453 rad) \n",
      "-> fwhm is 141.289203 arcmin\n",
      "Sigma is 0.000000 arcmin (0.000000 rad) \n",
      "-> fwhm is 0.000000 arcmin\n",
      "Sigma is 180.000000 arcmin (0.052360 rad) \n",
      "-> fwhm is 423.867608 arcmin\n",
      "Sigma is 0.000000 arcmin (0.000000 rad) \n",
      "-> fwhm is 0.000000 arcmin\n",
      "Sigma is 30.000000 arcmin (0.008727 rad) \n",
      "-> fwhm is 70.644601 arcmin\n",
      "Sigma is 0.000000 arcmin (0.000000 rad) \n",
      "-> fwhm is 0.000000 arcmin\n",
      "Sigma is 60.000000 arcmin (0.017453 rad) \n",
      "-> fwhm is 141.289203 arcmin\n",
      "Sigma is 0.000000 arcmin (0.000000 rad) \n",
      "-> fwhm is 0.000000 arcmin\n",
      "Sigma is 180.000000 arcmin (0.052360 rad) \n",
      "-> fwhm is 423.867608 arcmin\n",
      "Sigma is 0.000000 arcmin (0.000000 rad) \n",
      "-> fwhm is 0.000000 arcmin\n"
     ]
    }
   ],
   "source": [
    "nside = 256\n",
    "df1_s1 = hp.smoothing(hp.ud_grade(df1,nside), sigma=s1)\n",
    "df1_s2 = hp.smoothing(hp.ud_grade(df1,nside), sigma=s2)\n",
    "df1_s3 = hp.smoothing(hp.ud_grade(df1,nside), sigma=s3)\n",
    "\n",
    "df2_s1 = hp.smoothing(hp.ud_grade(df2,nside), sigma=s1)\n",
    "df2_s2 = hp.smoothing(hp.ud_grade(df2,nside), sigma=s2)\n",
    "df2_s3 = hp.smoothing(hp.ud_grade(df2,nside), sigma=s3)\n",
    "\n",
    "df3_s1 = hp.smoothing(hp.ud_grade(df3,nside), sigma=s1)\n",
    "df3_s2 = hp.smoothing(hp.ud_grade(df3,nside), sigma=s2)\n",
    "df3_s3 = hp.smoothing(hp.ud_grade(df3,nside), sigma=s3)\n",
    "\n",
    "\n"
   ]
  },
  {
   "cell_type": "code",
   "execution_count": 77,
   "id": "23719995-00c8-4a02-b100-59e89db72b8e",
   "metadata": {},
   "outputs": [
    {
     "name": "stdout",
     "output_type": "stream",
     "text": [
      "Sigma is 150.000000 arcmin (0.043633 rad) \n",
      "-> fwhm is 353.223007 arcmin\n",
      "Sigma is 0.000000 arcmin (0.000000 rad) \n",
      "-> fwhm is 0.000000 arcmin\n"
     ]
    }
   ],
   "source": [
    "# df3_s3 = hp.smoothing(df3, sigma=s3)\n"
   ]
  },
  {
   "cell_type": "code",
   "execution_count": 98,
   "id": "4bb85d82-3139-430a-8581-25b3b9b9f5ed",
   "metadata": {},
   "outputs": [
    {
     "data": {
      "text/plain": [
       "Text(0, 0.5, '$\\\\langle \\\\kappa^3 \\\\rangle$')"
      ]
     },
     "execution_count": 98,
     "metadata": {},
     "output_type": "execute_result"
    },
    {
     "data": {
      "image/png": "[encoded data removed]",
      "text/plain": [
       "<Figure size 504x504 with 1 Axes>"
      ]
     },
     "metadata": {
      "needs_background": "light"
     },
     "output_type": "display_data"
    }
   ],
   "source": [
    "xlabels = ['123', '132', '213', '231', '321', '312']\n",
    "yvals = np.array([np.mean(df1_s1*df2_s2*df3_s3), np.mean(df1_s1*df2_s3*df3_s2), \n",
    "                  np.mean(df1_s2*df2_s1*df3_s3), np.mean(df1_s2*df2_s3*df3_s1),\n",
    "                  np.mean(df1_s3*df2_s2*df3_s1), np.mean(df1_s3*df2_s1*df3_s2)])\n",
    "\n",
    "pl.figure()\n",
    "pl.plot(yvals)\n",
    "pl.xticks([0,1,2,3,4,5], xlabels)\n",
    "pl.xlabel('Smoothing scale combinations')\n",
    "pl.ylabel(r'$\\langle \\kappa^3 \\rangle$')\n",
    "\n"
   ]
  },
  {
   "cell_type": "code",
   "execution_count": 76,
   "id": "8d12454b-6aae-435a-b25d-b1313f2f3874",
   "metadata": {},
   "outputs": [],
   "source": [
    "# df1_s4 = hp.smoothing(df1, sigma=s4)\n",
    "# df2_s4 = hp.smoothing(df2, sigma=s4)\n",
    "\n"
   ]
  },
  {
   "cell_type": "code",
   "execution_count": 17,
   "id": "55a37979-395d-4643-bdad-fa9e5b10582b",
   "metadata": {},
   "outputs": [
    {
     "name": "stdout",
     "output_type": "stream",
     "text": [
      "Sigma is 120.000000 arcmin (0.034907 rad) \n",
      "-> fwhm is 282.578405 arcmin\n",
      "Sigma is 0.000000 arcmin (0.000000 rad) \n",
      "-> fwhm is 0.000000 arcmin\n"
     ]
    }
   ],
   "source": [
    "# df3_s4 = hp.smoothing(df3, sigma=s4)\n",
    "\n"
   ]
  },
  {
   "cell_type": "code",
   "execution_count": 4,
   "id": "9d5bbdc0-ff0b-42dc-9514-9d3a58adfd8a",
   "metadata": {},
   "outputs": [
    {
     "data": {
      "text/plain": [
       "1.2419352908430291e-08"
      ]
     },
     "execution_count": 4,
     "metadata": {},
     "output_type": "execute_result"
    }
   ],
   "source": [
    "np.mean(df1_s1*df2_s2*df3_s2)\n",
    "\n"
   ]
  },
  {
   "cell_type": "code",
   "execution_count": 5,
   "id": "ea048828-71eb-48be-9230-464e940d2996",
   "metadata": {},
   "outputs": [
    {
     "data": {
      "text/plain": [
       "1.2426344939381886e-08"
      ]
     },
     "execution_count": 5,
     "metadata": {},
     "output_type": "execute_result"
    }
   ],
   "source": [
    "np.mean(df2_s1*df1_s2*df3_s2)\n",
    "\n"
   ]
  },
  {
   "cell_type": "code",
   "execution_count": 6,
   "id": "2381692c-0399-4bb2-9d33-de329694a818",
   "metadata": {},
   "outputs": [
    {
     "data": {
      "text/plain": [
       "1.2419352908430291e-08"
      ]
     },
     "execution_count": 6,
     "metadata": {},
     "output_type": "execute_result"
    }
   ],
   "source": [
    "np.mean(df1_s1*df3_s2*df2_s2)\n",
    "\n"
   ]
  },
  {
   "cell_type": "code",
   "execution_count": 7,
   "id": "c13cc8d4-6ce2-4e38-a3ff-16393d9be98d",
   "metadata": {},
   "outputs": [
    {
     "data": {
      "text/plain": [
       "(5.811591350284648e-06, 5.811591347036536e-06)"
      ]
     },
     "execution_count": 7,
     "metadata": {},
     "output_type": "execute_result"
    }
   ],
   "source": [
    "np.mean(df1_s1*df2_s2), np.mean(df1_s2*df2_s1)\n",
    "\n",
    "\n",
    "\n",
    "\n",
    "\n"
   ]
  },
  {
   "cell_type": "code",
   "execution_count": 18,
   "id": "94384748-31f2-41c7-b28b-e6742123d16d",
   "metadata": {},
   "outputs": [
    {
     "data": {
      "text/plain": [
       "(1.3690391983377407e-06, 1.369039198250633e-06)"
      ]
     },
     "execution_count": 18,
     "metadata": {},
     "output_type": "execute_result"
    }
   ],
   "source": [
    "np.mean(df1_s1*df3_s4), np.mean(df1_s4*df3_s1)\n",
    "\n",
    "\n"
   ]
  },
  {
   "cell_type": "code",
   "execution_count": null,
   "id": "79e5a8db-894e-4db6-8a5b-524a8d23bbe1",
   "metadata": {},
   "outputs": [],
   "source": [
    "dfm = pk.load(open('/global/cfs/cdirs/des/shivamp/cosmosis2p0/cosmosis-standard-library/gen_moments/namaster_stuff.pk','rb'))  \n",
    "dfm = dfm['mask']\n",
    "\n",
    "rot1 = hp.Rotator(rot=(0,105,0))\n",
    "dfm_rot1 = rot1.rotate_map_pixel(dfm)\n",
    "\n",
    "rot2 = hp.Rotator(rot=(0,-105,0))\n",
    "dfm_rot2 = rot2.rotate_map_pixel(dfm)\n",
    "\n",
    "\n",
    "hp.mollview(dfm_rot1+dfm+dfm_rot2)\n",
    "\n"
   ]
  }
 ],
 "metadata": {
  "kernelspec": {
   "display_name": "myenv3-jp",
   "language": "python",
   "name": "myenv3-jp"
  },
  "language_info": {
   "codemirror_mode": {
    "name": "ipython",
    "version": 3
   },
   "file_extension": ".py",
   "mimetype": "text/x-python",
   "name": "python",
   "nbconvert_exporter": "python",
   "pygments_lexer": "ipython3",
   "version": "3.7.10"
  }
 },
 "nbformat": 4,
 "nbformat_minor": 5
}
